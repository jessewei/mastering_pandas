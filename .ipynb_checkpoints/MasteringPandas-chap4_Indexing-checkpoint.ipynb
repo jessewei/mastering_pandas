{
 "cells": [
  {
   "cell_type": "markdown",
   "metadata": {},
   "source": [
    "<h1>Chapter 4: Indexing and Selecting</h1>"
   ]
  },
  {
   "cell_type": "markdown",
   "metadata": {},
   "source": [
    "First we import the standard <em>numpy</em> and <em>pandas</em> modules."
   ]
  },
  {
   "cell_type": "code",
   "execution_count": 35,
   "metadata": {
    "collapsed": true
   },
   "outputs": [],
   "source": [
    "import numpy as np\n",
    "import pandas as pd\n",
    "\n",
    "from IPython.display import *"
   ]
  },
  {
   "cell_type": "markdown",
   "metadata": {},
   "source": [
    "Create a time series of crude oil spot prices for the 4 quarters of 2013, taken from IMF data:  "
   ]
  },
  {
   "cell_type": "code",
   "execution_count": 36,
   "metadata": {
    "collapsed": false
   },
   "outputs": [
    {
     "data": {
      "text/html": [
       "<div>\n",
       "<table border=\"1\" class=\"dataframe\">\n",
       "  <thead>\n",
       "    <tr style=\"text-align: right;\">\n",
       "      <th></th>\n",
       "      <th>Dubai</th>\n",
       "      <th>U.K. Brent</th>\n",
       "      <th>West Texas Intermediate</th>\n",
       "    </tr>\n",
       "  </thead>\n",
       "  <tbody>\n",
       "    <tr>\n",
       "      <th>2013-Q1</th>\n",
       "      <td>108.1</td>\n",
       "      <td>112.9</td>\n",
       "      <td>94.4</td>\n",
       "    </tr>\n",
       "    <tr>\n",
       "      <th>2013-Q2</th>\n",
       "      <td>100.8</td>\n",
       "      <td>103.0</td>\n",
       "      <td>94.2</td>\n",
       "    </tr>\n",
       "    <tr>\n",
       "      <th>2013-Q3</th>\n",
       "      <td>106.1</td>\n",
       "      <td>110.1</td>\n",
       "      <td>105.8</td>\n",
       "    </tr>\n",
       "    <tr>\n",
       "      <th>2013-Q4</th>\n",
       "      <td>106.7</td>\n",
       "      <td>109.4</td>\n",
       "      <td>97.4</td>\n",
       "    </tr>\n",
       "  </tbody>\n",
       "</table>\n",
       "</div>"
      ],
      "text/plain": [
       "         Dubai  U.K. Brent  West Texas Intermediate\n",
       "2013-Q1  108.1       112.9                     94.4\n",
       "2013-Q2  100.8       103.0                     94.2\n",
       "2013-Q3  106.1       110.1                    105.8\n",
       "2013-Q4  106.7       109.4                     97.4"
      ]
     },
     "execution_count": 36,
     "metadata": {},
     "output_type": "execute_result"
    }
   ],
   "source": [
    "SpotCrudePrices_2013_Data={\n",
    "                'U.K. Brent' : {'2013-Q1':112.9, '2013-Q2':103.0, '2013-Q3':110.1, '2013-Q4':109.4},\n",
    "                'Dubai':{'2013-Q1':108.1, '2013-Q2':100.8, '2013-Q3':106.1,'2013-Q4':106.7},\n",
    "                'West Texas Intermediate':{'2013-Q1':94.4, '2013-Q2':94.2, '2013-Q3':105.8,'2013-Q4':97.4}}\n",
    "                \n",
    "SpotCrudePrices_2013=pd.DataFrame.from_dict(SpotCrudePrices_2013_Data)\n",
    "SpotCrudePrices_2013\n"
   ]
  },
  {
   "cell_type": "markdown",
   "metadata": {},
   "source": [
    "Select the prices for the available time periods of Dubai crude using the [] operator:"
   ]
  },
  {
   "cell_type": "code",
   "execution_count": 37,
   "metadata": {
    "collapsed": false
   },
   "outputs": [
    {
     "data": {
      "text/plain": [
       "2013-Q1    108.1\n",
       "2013-Q2    100.8\n",
       "2013-Q3    106.1\n",
       "2013-Q4    106.7\n",
       "Name: Dubai, dtype: float64"
      ]
     },
     "execution_count": 37,
     "metadata": {},
     "output_type": "execute_result"
    }
   ],
   "source": [
    "dubaiPrices=SpotCrudePrices_2013['Dubai']; dubaiPrices"
   ]
  },
  {
   "cell_type": "code",
   "execution_count": 38,
   "metadata": {
    "collapsed": false
   },
   "outputs": [
    {
     "data": {
      "text/html": [
       "<div>\n",
       "<table border=\"1\" class=\"dataframe\">\n",
       "  <thead>\n",
       "    <tr style=\"text-align: right;\">\n",
       "      <th></th>\n",
       "      <th>Dubai</th>\n",
       "    </tr>\n",
       "  </thead>\n",
       "  <tbody>\n",
       "    <tr>\n",
       "      <th>2013-Q1</th>\n",
       "      <td>108.1</td>\n",
       "    </tr>\n",
       "    <tr>\n",
       "      <th>2013-Q2</th>\n",
       "      <td>100.8</td>\n",
       "    </tr>\n",
       "    <tr>\n",
       "      <th>2013-Q3</th>\n",
       "      <td>106.1</td>\n",
       "    </tr>\n",
       "    <tr>\n",
       "      <th>2013-Q4</th>\n",
       "      <td>106.7</td>\n",
       "    </tr>\n",
       "  </tbody>\n",
       "</table>\n",
       "</div>"
      ],
      "text/plain": [
       "         Dubai\n",
       "2013-Q1  108.1\n",
       "2013-Q2  100.8\n",
       "2013-Q3  106.1\n",
       "2013-Q4  106.7"
      ]
     },
     "metadata": {},
     "output_type": "display_data"
    }
   ],
   "source": [
    "dubaiPrices1=SpotCrudePrices_2013[['Dubai']]; display(dubaiPrices1)"
   ]
  },
  {
   "cell_type": "markdown",
   "metadata": {},
   "source": [
    "Select the columns in a particular order:"
   ]
  },
  {
   "cell_type": "code",
   "execution_count": 39,
   "metadata": {
    "collapsed": false
   },
   "outputs": [
    {
     "data": {
      "text/html": [
       "<div>\n",
       "<table border=\"1\" class=\"dataframe\">\n",
       "  <thead>\n",
       "    <tr style=\"text-align: right;\">\n",
       "      <th></th>\n",
       "      <th>West Texas Intermediate</th>\n",
       "      <th>U.K. Brent</th>\n",
       "    </tr>\n",
       "  </thead>\n",
       "  <tbody>\n",
       "    <tr>\n",
       "      <th>2013-Q1</th>\n",
       "      <td>94.4</td>\n",
       "      <td>112.9</td>\n",
       "    </tr>\n",
       "    <tr>\n",
       "      <th>2013-Q2</th>\n",
       "      <td>94.2</td>\n",
       "      <td>103.0</td>\n",
       "    </tr>\n",
       "    <tr>\n",
       "      <th>2013-Q3</th>\n",
       "      <td>105.8</td>\n",
       "      <td>110.1</td>\n",
       "    </tr>\n",
       "    <tr>\n",
       "      <th>2013-Q4</th>\n",
       "      <td>97.4</td>\n",
       "      <td>109.4</td>\n",
       "    </tr>\n",
       "  </tbody>\n",
       "</table>\n",
       "</div>"
      ],
      "text/plain": [
       "         West Texas Intermediate  U.K. Brent\n",
       "2013-Q1                     94.4       112.9\n",
       "2013-Q2                     94.2       103.0\n",
       "2013-Q3                    105.8       110.1\n",
       "2013-Q4                     97.4       109.4"
      ]
     },
     "execution_count": 39,
     "metadata": {},
     "output_type": "execute_result"
    }
   ],
   "source": [
    "SpotCrudePrices_2013[['West Texas Intermediate','U.K. Brent']]\n"
   ]
  },
  {
   "cell_type": "markdown",
   "metadata": {},
   "source": [
    "### Jesse comment  in  index\n",
    "- Why index forsample 1, pd ok, but not\n",
    "- SpotCrudePrices_2013"
   ]
  },
  {
   "cell_type": "code",
   "execution_count": 70,
   "metadata": {
    "collapsed": false
   },
   "outputs": [
    {
     "data": {
      "text/html": [
       "<div>\n",
       "<table border=\"1\" class=\"dataframe\">\n",
       "  <thead>\n",
       "    <tr style=\"text-align: right;\">\n",
       "      <th></th>\n",
       "      <th>A</th>\n",
       "      <th>B</th>\n",
       "      <th>C</th>\n",
       "    </tr>\n",
       "  </thead>\n",
       "  <tbody>\n",
       "    <tr>\n",
       "      <th>2015-02-01 00:00:00</th>\n",
       "      <td>0.708854</td>\n",
       "      <td>1.222171</td>\n",
       "      <td>0.806216</td>\n",
       "    </tr>\n",
       "    <tr>\n",
       "      <th>2015-02-01 00:00:10</th>\n",
       "      <td>0.466945</td>\n",
       "      <td>-2.832934</td>\n",
       "      <td>-0.266675</td>\n",
       "    </tr>\n",
       "    <tr>\n",
       "      <th>2015-02-01 00:00:20</th>\n",
       "      <td>1.716751</td>\n",
       "      <td>-0.370876</td>\n",
       "      <td>0.553547</td>\n",
       "    </tr>\n",
       "    <tr>\n",
       "      <th>2015-02-01 00:00:30</th>\n",
       "      <td>1.143267</td>\n",
       "      <td>-1.714554</td>\n",
       "      <td>1.001881</td>\n",
       "    </tr>\n",
       "    <tr>\n",
       "      <th>2015-02-01 00:00:40</th>\n",
       "      <td>-0.895583</td>\n",
       "      <td>-0.008900</td>\n",
       "      <td>1.455289</td>\n",
       "    </tr>\n",
       "    <tr>\n",
       "      <th>2015-02-01 00:00:50</th>\n",
       "      <td>-0.644983</td>\n",
       "      <td>1.605957</td>\n",
       "      <td>-1.462097</td>\n",
       "    </tr>\n",
       "    <tr>\n",
       "      <th>2015-02-01 00:01:00</th>\n",
       "      <td>-0.240153</td>\n",
       "      <td>-0.316187</td>\n",
       "      <td>-1.028674</td>\n",
       "    </tr>\n",
       "    <tr>\n",
       "      <th>2015-02-01 00:01:10</th>\n",
       "      <td>-0.281906</td>\n",
       "      <td>-1.033123</td>\n",
       "      <td>-1.607641</td>\n",
       "    </tr>\n",
       "    <tr>\n",
       "      <th>2015-02-01 00:01:20</th>\n",
       "      <td>0.904249</td>\n",
       "      <td>1.205047</td>\n",
       "      <td>-0.026542</td>\n",
       "    </tr>\n",
       "    <tr>\n",
       "      <th>2015-02-01 00:01:30</th>\n",
       "      <td>-1.771808</td>\n",
       "      <td>-0.050702</td>\n",
       "      <td>-2.622578</td>\n",
       "    </tr>\n",
       "    <tr>\n",
       "      <th>2015-02-01 00:01:40</th>\n",
       "      <td>1.161010</td>\n",
       "      <td>0.134007</td>\n",
       "      <td>1.778222</td>\n",
       "    </tr>\n",
       "    <tr>\n",
       "      <th>2015-02-01 00:01:50</th>\n",
       "      <td>0.269582</td>\n",
       "      <td>-1.468617</td>\n",
       "      <td>1.315500</td>\n",
       "    </tr>\n",
       "    <tr>\n",
       "      <th>2015-02-01 00:02:00</th>\n",
       "      <td>1.075090</td>\n",
       "      <td>-1.453005</td>\n",
       "      <td>-0.878235</td>\n",
       "    </tr>\n",
       "    <tr>\n",
       "      <th>2015-02-01 00:02:10</th>\n",
       "      <td>-2.200542</td>\n",
       "      <td>0.343406</td>\n",
       "      <td>-0.208387</td>\n",
       "    </tr>\n",
       "    <tr>\n",
       "      <th>2015-02-01 00:02:20</th>\n",
       "      <td>0.413289</td>\n",
       "      <td>-1.696259</td>\n",
       "      <td>-0.540514</td>\n",
       "    </tr>\n",
       "    <tr>\n",
       "      <th>2015-02-01 00:02:30</th>\n",
       "      <td>-0.558971</td>\n",
       "      <td>-0.529578</td>\n",
       "      <td>-0.137210</td>\n",
       "    </tr>\n",
       "    <tr>\n",
       "      <th>2015-02-01 00:02:40</th>\n",
       "      <td>0.304042</td>\n",
       "      <td>0.489761</td>\n",
       "      <td>-0.307263</td>\n",
       "    </tr>\n",
       "    <tr>\n",
       "      <th>2015-02-01 00:02:50</th>\n",
       "      <td>0.364893</td>\n",
       "      <td>1.115611</td>\n",
       "      <td>1.548004</td>\n",
       "    </tr>\n",
       "    <tr>\n",
       "      <th>2015-02-01 00:03:00</th>\n",
       "      <td>-0.527199</td>\n",
       "      <td>0.001163</td>\n",
       "      <td>0.556011</td>\n",
       "    </tr>\n",
       "    <tr>\n",
       "      <th>2015-02-01 00:03:10</th>\n",
       "      <td>0.465878</td>\n",
       "      <td>-1.339284</td>\n",
       "      <td>-0.090497</td>\n",
       "    </tr>\n",
       "    <tr>\n",
       "      <th>2015-02-01 00:03:20</th>\n",
       "      <td>0.266186</td>\n",
       "      <td>-0.176271</td>\n",
       "      <td>-0.170656</td>\n",
       "    </tr>\n",
       "    <tr>\n",
       "      <th>2015-02-01 00:03:30</th>\n",
       "      <td>-0.492343</td>\n",
       "      <td>-1.367949</td>\n",
       "      <td>1.536758</td>\n",
       "    </tr>\n",
       "    <tr>\n",
       "      <th>2015-02-01 00:03:40</th>\n",
       "      <td>-1.126074</td>\n",
       "      <td>-1.539792</td>\n",
       "      <td>0.598247</td>\n",
       "    </tr>\n",
       "    <tr>\n",
       "      <th>2015-02-01 00:03:50</th>\n",
       "      <td>1.151039</td>\n",
       "      <td>1.923685</td>\n",
       "      <td>-0.419345</td>\n",
       "    </tr>\n",
       "    <tr>\n",
       "      <th>2015-02-01 00:04:00</th>\n",
       "      <td>1.036860</td>\n",
       "      <td>0.730157</td>\n",
       "      <td>1.159633</td>\n",
       "    </tr>\n",
       "    <tr>\n",
       "      <th>2015-02-01 00:04:10</th>\n",
       "      <td>-0.213734</td>\n",
       "      <td>-0.041144</td>\n",
       "      <td>-0.732850</td>\n",
       "    </tr>\n",
       "    <tr>\n",
       "      <th>2015-02-01 00:04:20</th>\n",
       "      <td>1.415368</td>\n",
       "      <td>0.279430</td>\n",
       "      <td>0.159301</td>\n",
       "    </tr>\n",
       "    <tr>\n",
       "      <th>2015-02-01 00:04:30</th>\n",
       "      <td>-0.578135</td>\n",
       "      <td>-0.971852</td>\n",
       "      <td>0.821982</td>\n",
       "    </tr>\n",
       "    <tr>\n",
       "      <th>2015-02-01 00:04:40</th>\n",
       "      <td>0.283565</td>\n",
       "      <td>2.135879</td>\n",
       "      <td>-1.042403</td>\n",
       "    </tr>\n",
       "    <tr>\n",
       "      <th>2015-02-01 00:04:50</th>\n",
       "      <td>-0.784109</td>\n",
       "      <td>-0.117570</td>\n",
       "      <td>-1.167435</td>\n",
       "    </tr>\n",
       "    <tr>\n",
       "      <th>...</th>\n",
       "      <td>...</td>\n",
       "      <td>...</td>\n",
       "      <td>...</td>\n",
       "    </tr>\n",
       "    <tr>\n",
       "      <th>2015-02-01 23:55:00</th>\n",
       "      <td>0.363175</td>\n",
       "      <td>0.947950</td>\n",
       "      <td>-0.775411</td>\n",
       "    </tr>\n",
       "    <tr>\n",
       "      <th>2015-02-01 23:55:10</th>\n",
       "      <td>0.410046</td>\n",
       "      <td>-0.457922</td>\n",
       "      <td>0.393298</td>\n",
       "    </tr>\n",
       "    <tr>\n",
       "      <th>2015-02-01 23:55:20</th>\n",
       "      <td>0.359002</td>\n",
       "      <td>0.428456</td>\n",
       "      <td>0.906229</td>\n",
       "    </tr>\n",
       "    <tr>\n",
       "      <th>2015-02-01 23:55:30</th>\n",
       "      <td>-0.335531</td>\n",
       "      <td>1.356538</td>\n",
       "      <td>-0.803710</td>\n",
       "    </tr>\n",
       "    <tr>\n",
       "      <th>2015-02-01 23:55:40</th>\n",
       "      <td>-0.505116</td>\n",
       "      <td>-1.445344</td>\n",
       "      <td>0.891836</td>\n",
       "    </tr>\n",
       "    <tr>\n",
       "      <th>2015-02-01 23:55:50</th>\n",
       "      <td>-1.932230</td>\n",
       "      <td>-3.054799</td>\n",
       "      <td>-0.051480</td>\n",
       "    </tr>\n",
       "    <tr>\n",
       "      <th>2015-02-01 23:56:00</th>\n",
       "      <td>1.022455</td>\n",
       "      <td>-0.144292</td>\n",
       "      <td>0.271624</td>\n",
       "    </tr>\n",
       "    <tr>\n",
       "      <th>2015-02-01 23:56:10</th>\n",
       "      <td>1.068753</td>\n",
       "      <td>-0.586610</td>\n",
       "      <td>-0.072311</td>\n",
       "    </tr>\n",
       "    <tr>\n",
       "      <th>2015-02-01 23:56:20</th>\n",
       "      <td>0.300071</td>\n",
       "      <td>-0.204179</td>\n",
       "      <td>1.088093</td>\n",
       "    </tr>\n",
       "    <tr>\n",
       "      <th>2015-02-01 23:56:30</th>\n",
       "      <td>-0.644436</td>\n",
       "      <td>0.437335</td>\n",
       "      <td>0.237742</td>\n",
       "    </tr>\n",
       "    <tr>\n",
       "      <th>2015-02-01 23:56:40</th>\n",
       "      <td>-0.614467</td>\n",
       "      <td>0.423520</td>\n",
       "      <td>1.300499</td>\n",
       "    </tr>\n",
       "    <tr>\n",
       "      <th>2015-02-01 23:56:50</th>\n",
       "      <td>-0.449053</td>\n",
       "      <td>0.211087</td>\n",
       "      <td>1.008418</td>\n",
       "    </tr>\n",
       "    <tr>\n",
       "      <th>2015-02-01 23:57:00</th>\n",
       "      <td>2.484140</td>\n",
       "      <td>0.198591</td>\n",
       "      <td>0.514667</td>\n",
       "    </tr>\n",
       "    <tr>\n",
       "      <th>2015-02-01 23:57:10</th>\n",
       "      <td>0.931907</td>\n",
       "      <td>-0.238516</td>\n",
       "      <td>-1.769407</td>\n",
       "    </tr>\n",
       "    <tr>\n",
       "      <th>2015-02-01 23:57:20</th>\n",
       "      <td>-0.792557</td>\n",
       "      <td>-0.580176</td>\n",
       "      <td>0.819088</td>\n",
       "    </tr>\n",
       "    <tr>\n",
       "      <th>2015-02-01 23:57:30</th>\n",
       "      <td>-1.870576</td>\n",
       "      <td>0.329676</td>\n",
       "      <td>-1.062104</td>\n",
       "    </tr>\n",
       "    <tr>\n",
       "      <th>2015-02-01 23:57:40</th>\n",
       "      <td>-0.419681</td>\n",
       "      <td>0.074683</td>\n",
       "      <td>1.288079</td>\n",
       "    </tr>\n",
       "    <tr>\n",
       "      <th>2015-02-01 23:57:50</th>\n",
       "      <td>0.941890</td>\n",
       "      <td>-0.317659</td>\n",
       "      <td>-0.183119</td>\n",
       "    </tr>\n",
       "    <tr>\n",
       "      <th>2015-02-01 23:58:00</th>\n",
       "      <td>-1.240339</td>\n",
       "      <td>-1.208822</td>\n",
       "      <td>-2.162171</td>\n",
       "    </tr>\n",
       "    <tr>\n",
       "      <th>2015-02-01 23:58:10</th>\n",
       "      <td>0.858846</td>\n",
       "      <td>-1.166766</td>\n",
       "      <td>0.140590</td>\n",
       "    </tr>\n",
       "    <tr>\n",
       "      <th>2015-02-01 23:58:20</th>\n",
       "      <td>1.987892</td>\n",
       "      <td>-0.973216</td>\n",
       "      <td>-0.231579</td>\n",
       "    </tr>\n",
       "    <tr>\n",
       "      <th>2015-02-01 23:58:30</th>\n",
       "      <td>0.729943</td>\n",
       "      <td>0.339508</td>\n",
       "      <td>-0.536264</td>\n",
       "    </tr>\n",
       "    <tr>\n",
       "      <th>2015-02-01 23:58:40</th>\n",
       "      <td>-0.312751</td>\n",
       "      <td>0.326889</td>\n",
       "      <td>-1.316498</td>\n",
       "    </tr>\n",
       "    <tr>\n",
       "      <th>2015-02-01 23:58:50</th>\n",
       "      <td>0.625828</td>\n",
       "      <td>1.085248</td>\n",
       "      <td>-0.339544</td>\n",
       "    </tr>\n",
       "    <tr>\n",
       "      <th>2015-02-01 23:59:00</th>\n",
       "      <td>-1.332834</td>\n",
       "      <td>0.073811</td>\n",
       "      <td>1.010529</td>\n",
       "    </tr>\n",
       "    <tr>\n",
       "      <th>2015-02-01 23:59:10</th>\n",
       "      <td>0.724832</td>\n",
       "      <td>-0.261476</td>\n",
       "      <td>-1.546283</td>\n",
       "    </tr>\n",
       "    <tr>\n",
       "      <th>2015-02-01 23:59:20</th>\n",
       "      <td>-0.355200</td>\n",
       "      <td>-1.398765</td>\n",
       "      <td>-0.742190</td>\n",
       "    </tr>\n",
       "    <tr>\n",
       "      <th>2015-02-01 23:59:30</th>\n",
       "      <td>-0.557314</td>\n",
       "      <td>-0.343614</td>\n",
       "      <td>0.585135</td>\n",
       "    </tr>\n",
       "    <tr>\n",
       "      <th>2015-02-01 23:59:40</th>\n",
       "      <td>-2.588598</td>\n",
       "      <td>0.194828</td>\n",
       "      <td>-0.484697</td>\n",
       "    </tr>\n",
       "    <tr>\n",
       "      <th>2015-02-01 23:59:50</th>\n",
       "      <td>1.083405</td>\n",
       "      <td>0.740099</td>\n",
       "      <td>1.056089</td>\n",
       "    </tr>\n",
       "  </tbody>\n",
       "</table>\n",
       "<p>8640 rows × 3 columns</p>\n",
       "</div>"
      ],
      "text/plain": [
       "                            A         B         C\n",
       "2015-02-01 00:00:00  0.708854  1.222171  0.806216\n",
       "2015-02-01 00:00:10  0.466945 -2.832934 -0.266675\n",
       "2015-02-01 00:00:20  1.716751 -0.370876  0.553547\n",
       "2015-02-01 00:00:30  1.143267 -1.714554  1.001881\n",
       "2015-02-01 00:00:40 -0.895583 -0.008900  1.455289\n",
       "2015-02-01 00:00:50 -0.644983  1.605957 -1.462097\n",
       "2015-02-01 00:01:00 -0.240153 -0.316187 -1.028674\n",
       "2015-02-01 00:01:10 -0.281906 -1.033123 -1.607641\n",
       "2015-02-01 00:01:20  0.904249  1.205047 -0.026542\n",
       "2015-02-01 00:01:30 -1.771808 -0.050702 -2.622578\n",
       "2015-02-01 00:01:40  1.161010  0.134007  1.778222\n",
       "2015-02-01 00:01:50  0.269582 -1.468617  1.315500\n",
       "2015-02-01 00:02:00  1.075090 -1.453005 -0.878235\n",
       "2015-02-01 00:02:10 -2.200542  0.343406 -0.208387\n",
       "2015-02-01 00:02:20  0.413289 -1.696259 -0.540514\n",
       "2015-02-01 00:02:30 -0.558971 -0.529578 -0.137210\n",
       "2015-02-01 00:02:40  0.304042  0.489761 -0.307263\n",
       "2015-02-01 00:02:50  0.364893  1.115611  1.548004\n",
       "2015-02-01 00:03:00 -0.527199  0.001163  0.556011\n",
       "2015-02-01 00:03:10  0.465878 -1.339284 -0.090497\n",
       "2015-02-01 00:03:20  0.266186 -0.176271 -0.170656\n",
       "2015-02-01 00:03:30 -0.492343 -1.367949  1.536758\n",
       "2015-02-01 00:03:40 -1.126074 -1.539792  0.598247\n",
       "2015-02-01 00:03:50  1.151039  1.923685 -0.419345\n",
       "2015-02-01 00:04:00  1.036860  0.730157  1.159633\n",
       "2015-02-01 00:04:10 -0.213734 -0.041144 -0.732850\n",
       "2015-02-01 00:04:20  1.415368  0.279430  0.159301\n",
       "2015-02-01 00:04:30 -0.578135 -0.971852  0.821982\n",
       "2015-02-01 00:04:40  0.283565  2.135879 -1.042403\n",
       "2015-02-01 00:04:50 -0.784109 -0.117570 -1.167435\n",
       "...                       ...       ...       ...\n",
       "2015-02-01 23:55:00  0.363175  0.947950 -0.775411\n",
       "2015-02-01 23:55:10  0.410046 -0.457922  0.393298\n",
       "2015-02-01 23:55:20  0.359002  0.428456  0.906229\n",
       "2015-02-01 23:55:30 -0.335531  1.356538 -0.803710\n",
       "2015-02-01 23:55:40 -0.505116 -1.445344  0.891836\n",
       "2015-02-01 23:55:50 -1.932230 -3.054799 -0.051480\n",
       "2015-02-01 23:56:00  1.022455 -0.144292  0.271624\n",
       "2015-02-01 23:56:10  1.068753 -0.586610 -0.072311\n",
       "2015-02-01 23:56:20  0.300071 -0.204179  1.088093\n",
       "2015-02-01 23:56:30 -0.644436  0.437335  0.237742\n",
       "2015-02-01 23:56:40 -0.614467  0.423520  1.300499\n",
       "2015-02-01 23:56:50 -0.449053  0.211087  1.008418\n",
       "2015-02-01 23:57:00  2.484140  0.198591  0.514667\n",
       "2015-02-01 23:57:10  0.931907 -0.238516 -1.769407\n",
       "2015-02-01 23:57:20 -0.792557 -0.580176  0.819088\n",
       "2015-02-01 23:57:30 -1.870576  0.329676 -1.062104\n",
       "2015-02-01 23:57:40 -0.419681  0.074683  1.288079\n",
       "2015-02-01 23:57:50  0.941890 -0.317659 -0.183119\n",
       "2015-02-01 23:58:00 -1.240339 -1.208822 -2.162171\n",
       "2015-02-01 23:58:10  0.858846 -1.166766  0.140590\n",
       "2015-02-01 23:58:20  1.987892 -0.973216 -0.231579\n",
       "2015-02-01 23:58:30  0.729943  0.339508 -0.536264\n",
       "2015-02-01 23:58:40 -0.312751  0.326889 -1.316498\n",
       "2015-02-01 23:58:50  0.625828  1.085248 -0.339544\n",
       "2015-02-01 23:59:00 -1.332834  0.073811  1.010529\n",
       "2015-02-01 23:59:10  0.724832 -0.261476 -1.546283\n",
       "2015-02-01 23:59:20 -0.355200 -1.398765 -0.742190\n",
       "2015-02-01 23:59:30 -0.557314 -0.343614  0.585135\n",
       "2015-02-01 23:59:40 -2.588598  0.194828 -0.484697\n",
       "2015-02-01 23:59:50  1.083405  0.740099  1.056089\n",
       "\n",
       "[8640 rows x 3 columns]"
      ]
     },
     "metadata": {},
     "output_type": "display_data"
    },
    {
     "data": {
      "text/html": [
       "<div>\n",
       "<table border=\"1\" class=\"dataframe\">\n",
       "  <thead>\n",
       "    <tr style=\"text-align: right;\">\n",
       "      <th></th>\n",
       "      <th>A</th>\n",
       "      <th>B</th>\n",
       "      <th>C</th>\n",
       "    </tr>\n",
       "  </thead>\n",
       "  <tbody>\n",
       "    <tr>\n",
       "      <th>2015-02-01</th>\n",
       "      <td>0.708854</td>\n",
       "      <td>1.222171</td>\n",
       "      <td>0.806216</td>\n",
       "    </tr>\n",
       "  </tbody>\n",
       "</table>\n",
       "</div>"
      ],
      "text/plain": [
       "                   A         B         C\n",
       "2015-02-01  0.708854  1.222171  0.806216"
      ]
     },
     "metadata": {},
     "output_type": "display_data"
    }
   ],
   "source": [
    "# Jesse test to index,\n",
    "df = pd.DataFrame(\n",
    "    np.random.randn(1000000, 3), \n",
    "    columns=list('ABC'), \n",
    "    index=pd.DatetimeIndex(start='2015-1-1', freq='10s', periods=1000000)\n",
    ")\n",
    "display(df['2015-2-1']) \n",
    "# why df and dubaiPrices OK\n",
    "# but SpotCrudePrices_2013['2013-Q1'] not work\n",
    "display(df[df.index == '2015-2-1'])\n"
   ]
  },
  {
   "cell_type": "code",
   "execution_count": 81,
   "metadata": {
    "collapsed": false
   },
   "outputs": [
    {
     "data": {
      "text/plain": [
       "108.09999999999999"
      ]
     },
     "execution_count": 81,
     "metadata": {},
     "output_type": "execute_result"
    }
   ],
   "source": [
    "SpotCrudePrices_2013.loc['2013-Q1', 'Dubai']\n",
    "# display(SpotCrudePrices_2013.loc[:, 'Dubai'])\n",
    "# SpotCrudePrices_2013['2013-Q1']\n"
   ]
  },
  {
   "cell_type": "code",
   "execution_count": 68,
   "metadata": {
    "collapsed": false
   },
   "outputs": [
    {
     "data": {
      "text/html": [
       "<div>\n",
       "<table border=\"1\" class=\"dataframe\">\n",
       "  <thead>\n",
       "    <tr style=\"text-align: right;\">\n",
       "      <th></th>\n",
       "      <th>Dubai</th>\n",
       "      <th>UK_Brent</th>\n",
       "      <th>West_Texas_Intermediate</th>\n",
       "    </tr>\n",
       "  </thead>\n",
       "  <tbody>\n",
       "    <tr>\n",
       "      <th>2013-Q1</th>\n",
       "      <td>108.1</td>\n",
       "      <td>112.9</td>\n",
       "      <td>94.4</td>\n",
       "    </tr>\n",
       "  </tbody>\n",
       "</table>\n",
       "</div>"
      ],
      "text/plain": [
       "         Dubai  UK_Brent  West_Texas_Intermediate\n",
       "2013-Q1  108.1     112.9                     94.4"
      ]
     },
     "execution_count": 68,
     "metadata": {},
     "output_type": "execute_result"
    }
   ],
   "source": [
    "# SpotCrudePrices_2013['Brent Blend'] # Show error\n",
    "# SpotCrudePrices_2013['2013-Q1'] # why diff with gapminder/python/ch02 \n",
    "SpotCrudePrices_2013[SpotCrudePrices_2013.index == '2013-Q1'] # why diff with gapminder/python/ch02 "
   ]
  },
  {
   "cell_type": "code",
   "execution_count": 41,
   "metadata": {
    "collapsed": true
   },
   "outputs": [],
   "source": [
    "df = SpotCrudePrices_2013.get('Brent Blend'); df"
   ]
  },
  {
   "cell_type": "code",
   "execution_count": 42,
   "metadata": {
    "collapsed": false
   },
   "outputs": [
    {
     "data": {
      "text/plain": [
       "True"
      ]
     },
     "execution_count": 42,
     "metadata": {},
     "output_type": "execute_result"
    }
   ],
   "source": [
    "df == None"
   ]
  },
  {
   "cell_type": "code",
   "execution_count": 43,
   "metadata": {
    "collapsed": false
   },
   "outputs": [
    {
     "data": {
      "text/plain": [
       "2013-Q1    112.9\n",
       "2013-Q2    103.0\n",
       "2013-Q3    110.1\n",
       "2013-Q4    109.4\n",
       "Name: U.K. Brent, dtype: float64"
      ]
     },
     "execution_count": 43,
     "metadata": {},
     "output_type": "execute_result"
    }
   ],
   "source": [
    "SpotCrudePrices_2013.get('U.K. Brent')"
   ]
  },
  {
   "cell_type": "code",
   "execution_count": 44,
   "metadata": {
    "collapsed": false
   },
   "outputs": [
    {
     "data": {
      "text/plain": [
       "'N/A'"
      ]
     },
     "execution_count": 44,
     "metadata": {},
     "output_type": "execute_result"
    }
   ],
   "source": [
    "SpotCrudePrices_2013.get('Brent Blend','N/A')"
   ]
  },
  {
   "cell_type": "code",
   "execution_count": 45,
   "metadata": {
    "collapsed": false
   },
   "outputs": [],
   "source": [
    "# SpotCrudePrices_2013['2013-Q1'] # Show error\n",
    "# SpotCrudePrices_2013[SpotCrudePrices_2013=='2013-Q1']"
   ]
  },
  {
   "cell_type": "code",
   "execution_count": 46,
   "metadata": {
    "collapsed": false
   },
   "outputs": [
    {
     "data": {
      "text/plain": [
       "108.09999999999999"
      ]
     },
     "execution_count": 46,
     "metadata": {},
     "output_type": "execute_result"
    }
   ],
   "source": [
    "dubaiPrices['2013-Q1']"
   ]
  },
  {
   "cell_type": "code",
   "execution_count": 47,
   "metadata": {
    "collapsed": false
   },
   "outputs": [
    {
     "data": {
      "text/html": [
       "<div>\n",
       "<table border=\"1\" class=\"dataframe\">\n",
       "  <thead>\n",
       "    <tr style=\"text-align: right;\">\n",
       "      <th></th>\n",
       "      <th>Dubai</th>\n",
       "    </tr>\n",
       "  </thead>\n",
       "  <tbody>\n",
       "    <tr>\n",
       "      <th>2013-Q1</th>\n",
       "      <td>108.1</td>\n",
       "    </tr>\n",
       "  </tbody>\n",
       "</table>\n",
       "</div>"
      ],
      "text/plain": [
       "         Dubai\n",
       "2013-Q1  108.1"
      ]
     },
     "execution_count": 47,
     "metadata": {},
     "output_type": "execute_result"
    }
   ],
   "source": [
    "dubaiPrices1[dubaiPrices1.index == '2013-Q1']"
   ]
  },
  {
   "cell_type": "markdown",
   "metadata": {},
   "source": [
    "Retrieve values directly as an attribute "
   ]
  },
  {
   "cell_type": "code",
   "execution_count": 48,
   "metadata": {
    "collapsed": false
   },
   "outputs": [
    {
     "data": {
      "text/plain": [
       "2013-Q1    108.1\n",
       "2013-Q2    100.8\n",
       "2013-Q3    106.1\n",
       "2013-Q4    106.7\n",
       "Name: Dubai, dtype: float64"
      ]
     },
     "execution_count": 48,
     "metadata": {},
     "output_type": "execute_result"
    }
   ],
   "source": [
    "SpotCrudePrices_2013.Dubai"
   ]
  },
  {
   "cell_type": "code",
   "execution_count": 49,
   "metadata": {
    "collapsed": false
   },
   "outputs": [
    {
     "data": {
      "text/plain": [
       "2013-Q1    108.1\n",
       "2013-Q2    100.8\n",
       "2013-Q3    106.1\n",
       "2013-Q4    106.7\n",
       "Name: Dubai, dtype: float64"
      ]
     },
     "metadata": {},
     "output_type": "display_data"
    }
   ],
   "source": [
    "display(dubaiPrices)"
   ]
  },
  {
   "cell_type": "code",
   "execution_count": 50,
   "metadata": {
    "collapsed": false
   },
   "outputs": [
    {
     "data": {
      "text/html": [
       "<div>\n",
       "<table border=\"1\" class=\"dataframe\">\n",
       "  <thead>\n",
       "    <tr style=\"text-align: right;\">\n",
       "      <th></th>\n",
       "      <th>Dubai</th>\n",
       "      <th>U.K. Brent</th>\n",
       "      <th>West Texas Intermediate</th>\n",
       "    </tr>\n",
       "  </thead>\n",
       "  <tbody>\n",
       "    <tr>\n",
       "      <th>2013-Q1</th>\n",
       "      <td>108.1</td>\n",
       "      <td>112.9</td>\n",
       "      <td>94.4</td>\n",
       "    </tr>\n",
       "    <tr>\n",
       "      <th>2013-Q2</th>\n",
       "      <td>100.8</td>\n",
       "      <td>103.0</td>\n",
       "      <td>94.2</td>\n",
       "    </tr>\n",
       "    <tr>\n",
       "      <th>2013-Q3</th>\n",
       "      <td>106.1</td>\n",
       "      <td>110.1</td>\n",
       "      <td>105.8</td>\n",
       "    </tr>\n",
       "    <tr>\n",
       "      <th>2013-Q4</th>\n",
       "      <td>106.7</td>\n",
       "      <td>109.4</td>\n",
       "      <td>97.4</td>\n",
       "    </tr>\n",
       "  </tbody>\n",
       "</table>\n",
       "</div>"
      ],
      "text/plain": [
       "         Dubai  U.K. Brent  West Texas Intermediate\n",
       "2013-Q1  108.1       112.9                     94.4\n",
       "2013-Q2  100.8       103.0                     94.2\n",
       "2013-Q3  106.1       110.1                    105.8\n",
       "2013-Q4  106.7       109.4                     97.4"
      ]
     },
     "execution_count": 50,
     "metadata": {},
     "output_type": "execute_result"
    }
   ],
   "source": [
    "SpotCrudePrices_2013"
   ]
  },
  {
   "cell_type": "markdown",
   "metadata": {},
   "source": [
    "Rename the column index names so they are all valid identifiers:"
   ]
  },
  {
   "cell_type": "code",
   "execution_count": 51,
   "metadata": {
    "collapsed": false
   },
   "outputs": [
    {
     "data": {
      "text/html": [
       "<div>\n",
       "<table border=\"1\" class=\"dataframe\">\n",
       "  <thead>\n",
       "    <tr style=\"text-align: right;\">\n",
       "      <th></th>\n",
       "      <th>Dubai</th>\n",
       "      <th>UK_Brent</th>\n",
       "      <th>West_Texas_Intermediate</th>\n",
       "    </tr>\n",
       "  </thead>\n",
       "  <tbody>\n",
       "    <tr>\n",
       "      <th>2013-Q1</th>\n",
       "      <td>108.1</td>\n",
       "      <td>112.9</td>\n",
       "      <td>94.4</td>\n",
       "    </tr>\n",
       "    <tr>\n",
       "      <th>2013-Q2</th>\n",
       "      <td>100.8</td>\n",
       "      <td>103.0</td>\n",
       "      <td>94.2</td>\n",
       "    </tr>\n",
       "    <tr>\n",
       "      <th>2013-Q3</th>\n",
       "      <td>106.1</td>\n",
       "      <td>110.1</td>\n",
       "      <td>105.8</td>\n",
       "    </tr>\n",
       "    <tr>\n",
       "      <th>2013-Q4</th>\n",
       "      <td>106.7</td>\n",
       "      <td>109.4</td>\n",
       "      <td>97.4</td>\n",
       "    </tr>\n",
       "  </tbody>\n",
       "</table>\n",
       "</div>"
      ],
      "text/plain": [
       "         Dubai  UK_Brent  West_Texas_Intermediate\n",
       "2013-Q1  108.1     112.9                     94.4\n",
       "2013-Q2  100.8     103.0                     94.2\n",
       "2013-Q3  106.1     110.1                    105.8\n",
       "2013-Q4  106.7     109.4                     97.4"
      ]
     },
     "execution_count": 51,
     "metadata": {},
     "output_type": "execute_result"
    }
   ],
   "source": [
    "SpotCrudePrices_2013.columns=['Dubai','UK_Brent', \n",
    "                                       'West_Texas_Intermediate']\n",
    "SpotCrudePrices_2013"
   ]
  },
  {
   "cell_type": "code",
   "execution_count": 52,
   "metadata": {
    "collapsed": false
   },
   "outputs": [
    {
     "data": {
      "text/plain": [
       "2013-Q1     94.4\n",
       "2013-Q2     94.2\n",
       "2013-Q3    105.8\n",
       "2013-Q4     97.4\n",
       "Name: West_Texas_Intermediate, dtype: float64"
      ]
     },
     "execution_count": 52,
     "metadata": {},
     "output_type": "execute_result"
    }
   ],
   "source": [
    "SpotCrudePrices_2013.West_Texas_Intermediate"
   ]
  },
  {
   "cell_type": "markdown",
   "metadata": {},
   "source": [
    "Select by specifying column index number:"
   ]
  },
  {
   "cell_type": "code",
   "execution_count": 53,
   "metadata": {
    "collapsed": false
   },
   "outputs": [
    {
     "data": {
      "text/html": [
       "<div>\n",
       "<table border=\"1\" class=\"dataframe\">\n",
       "  <thead>\n",
       "    <tr style=\"text-align: right;\">\n",
       "      <th></th>\n",
       "      <th>UK_Brent</th>\n",
       "    </tr>\n",
       "  </thead>\n",
       "  <tbody>\n",
       "    <tr>\n",
       "      <th>2013-Q1</th>\n",
       "      <td>112.9</td>\n",
       "    </tr>\n",
       "    <tr>\n",
       "      <th>2013-Q2</th>\n",
       "      <td>103.0</td>\n",
       "    </tr>\n",
       "    <tr>\n",
       "      <th>2013-Q3</th>\n",
       "      <td>110.1</td>\n",
       "    </tr>\n",
       "    <tr>\n",
       "      <th>2013-Q4</th>\n",
       "      <td>109.4</td>\n",
       "    </tr>\n",
       "  </tbody>\n",
       "</table>\n",
       "</div>"
      ],
      "text/plain": [
       "         UK_Brent\n",
       "2013-Q1     112.9\n",
       "2013-Q2     103.0\n",
       "2013-Q3     110.1\n",
       "2013-Q4     109.4"
      ]
     },
     "execution_count": 53,
     "metadata": {},
     "output_type": "execute_result"
    }
   ],
   "source": [
    "SpotCrudePrices_2013[[1]]"
   ]
  },
  {
   "cell_type": "markdown",
   "metadata": {},
   "source": [
    "<h2>Range Slicing </h2>"
   ]
  },
  {
   "cell_type": "markdown",
   "metadata": {},
   "source": [
    "Obtain the 1st 2 rows:"
   ]
  },
  {
   "cell_type": "code",
   "execution_count": 54,
   "metadata": {
    "collapsed": false
   },
   "outputs": [
    {
     "data": {
      "text/html": [
       "<div>\n",
       "<table border=\"1\" class=\"dataframe\">\n",
       "  <thead>\n",
       "    <tr style=\"text-align: right;\">\n",
       "      <th></th>\n",
       "      <th>Dubai</th>\n",
       "      <th>UK_Brent</th>\n",
       "      <th>West_Texas_Intermediate</th>\n",
       "    </tr>\n",
       "  </thead>\n",
       "  <tbody>\n",
       "    <tr>\n",
       "      <th>2013-Q1</th>\n",
       "      <td>108.1</td>\n",
       "      <td>112.9</td>\n",
       "      <td>94.4</td>\n",
       "    </tr>\n",
       "    <tr>\n",
       "      <th>2013-Q2</th>\n",
       "      <td>100.8</td>\n",
       "      <td>103.0</td>\n",
       "      <td>94.2</td>\n",
       "    </tr>\n",
       "  </tbody>\n",
       "</table>\n",
       "</div>"
      ],
      "text/plain": [
       "         Dubai  UK_Brent  West_Texas_Intermediate\n",
       "2013-Q1  108.1     112.9                     94.4\n",
       "2013-Q2  100.8     103.0                     94.2"
      ]
     },
     "execution_count": 54,
     "metadata": {},
     "output_type": "execute_result"
    }
   ],
   "source": [
    "SpotCrudePrices_2013[:2]"
   ]
  },
  {
   "cell_type": "markdown",
   "metadata": {},
   "source": [
    "Obtain all rows starting from index 2:"
   ]
  },
  {
   "cell_type": "code",
   "execution_count": 55,
   "metadata": {
    "collapsed": false
   },
   "outputs": [
    {
     "data": {
      "text/html": [
       "<div>\n",
       "<table border=\"1\" class=\"dataframe\">\n",
       "  <thead>\n",
       "    <tr style=\"text-align: right;\">\n",
       "      <th></th>\n",
       "      <th>Dubai</th>\n",
       "      <th>UK_Brent</th>\n",
       "      <th>West_Texas_Intermediate</th>\n",
       "    </tr>\n",
       "  </thead>\n",
       "  <tbody>\n",
       "    <tr>\n",
       "      <th>2013-Q3</th>\n",
       "      <td>106.1</td>\n",
       "      <td>110.1</td>\n",
       "      <td>105.8</td>\n",
       "    </tr>\n",
       "    <tr>\n",
       "      <th>2013-Q4</th>\n",
       "      <td>106.7</td>\n",
       "      <td>109.4</td>\n",
       "      <td>97.4</td>\n",
       "    </tr>\n",
       "  </tbody>\n",
       "</table>\n",
       "</div>"
      ],
      "text/plain": [
       "         Dubai  UK_Brent  West_Texas_Intermediate\n",
       "2013-Q3  106.1     110.1                    105.8\n",
       "2013-Q4  106.7     109.4                     97.4"
      ]
     },
     "execution_count": 55,
     "metadata": {},
     "output_type": "execute_result"
    }
   ],
   "source": [
    "SpotCrudePrices_2013[2:]"
   ]
  },
  {
   "cell_type": "markdown",
   "metadata": {},
   "source": [
    "Obtain rows at interval of 2, starting from row 0:"
   ]
  },
  {
   "cell_type": "code",
   "execution_count": 56,
   "metadata": {
    "collapsed": false
   },
   "outputs": [
    {
     "data": {
      "text/html": [
       "<div>\n",
       "<table border=\"1\" class=\"dataframe\">\n",
       "  <thead>\n",
       "    <tr style=\"text-align: right;\">\n",
       "      <th></th>\n",
       "      <th>Dubai</th>\n",
       "      <th>UK_Brent</th>\n",
       "      <th>West_Texas_Intermediate</th>\n",
       "    </tr>\n",
       "  </thead>\n",
       "  <tbody>\n",
       "    <tr>\n",
       "      <th>2013-Q1</th>\n",
       "      <td>108.1</td>\n",
       "      <td>112.9</td>\n",
       "      <td>94.4</td>\n",
       "    </tr>\n",
       "    <tr>\n",
       "      <th>2013-Q3</th>\n",
       "      <td>106.1</td>\n",
       "      <td>110.1</td>\n",
       "      <td>105.8</td>\n",
       "    </tr>\n",
       "  </tbody>\n",
       "</table>\n",
       "</div>"
      ],
      "text/plain": [
       "         Dubai  UK_Brent  West_Texas_Intermediate\n",
       "2013-Q1  108.1     112.9                     94.4\n",
       "2013-Q3  106.1     110.1                    105.8"
      ]
     },
     "execution_count": 56,
     "metadata": {},
     "output_type": "execute_result"
    }
   ],
   "source": [
    "SpotCrudePrices_2013[::2]"
   ]
  },
  {
   "cell_type": "markdown",
   "metadata": {},
   "source": [
    "Reverse the order of rows in DataFrame:"
   ]
  },
  {
   "cell_type": "code",
   "execution_count": 57,
   "metadata": {
    "collapsed": false
   },
   "outputs": [
    {
     "data": {
      "text/html": [
       "<div>\n",
       "<table border=\"1\" class=\"dataframe\">\n",
       "  <thead>\n",
       "    <tr style=\"text-align: right;\">\n",
       "      <th></th>\n",
       "      <th>Dubai</th>\n",
       "      <th>UK_Brent</th>\n",
       "      <th>West_Texas_Intermediate</th>\n",
       "    </tr>\n",
       "  </thead>\n",
       "  <tbody>\n",
       "    <tr>\n",
       "      <th>2013-Q4</th>\n",
       "      <td>106.7</td>\n",
       "      <td>109.4</td>\n",
       "      <td>97.4</td>\n",
       "    </tr>\n",
       "    <tr>\n",
       "      <th>2013-Q3</th>\n",
       "      <td>106.1</td>\n",
       "      <td>110.1</td>\n",
       "      <td>105.8</td>\n",
       "    </tr>\n",
       "    <tr>\n",
       "      <th>2013-Q2</th>\n",
       "      <td>100.8</td>\n",
       "      <td>103.0</td>\n",
       "      <td>94.2</td>\n",
       "    </tr>\n",
       "    <tr>\n",
       "      <th>2013-Q1</th>\n",
       "      <td>108.1</td>\n",
       "      <td>112.9</td>\n",
       "      <td>94.4</td>\n",
       "    </tr>\n",
       "  </tbody>\n",
       "</table>\n",
       "</div>"
      ],
      "text/plain": [
       "         Dubai  UK_Brent  West_Texas_Intermediate\n",
       "2013-Q4  106.7     109.4                     97.4\n",
       "2013-Q3  106.1     110.1                    105.8\n",
       "2013-Q2  100.8     103.0                     94.2\n",
       "2013-Q1  108.1     112.9                     94.4"
      ]
     },
     "execution_count": 57,
     "metadata": {},
     "output_type": "execute_result"
    }
   ],
   "source": [
    "SpotCrudePrices_2013[::-1]"
   ]
  },
  {
   "cell_type": "markdown",
   "metadata": {},
   "source": [
    "<h4>Series behavior </h4>"
   ]
  },
  {
   "cell_type": "code",
   "execution_count": 58,
   "metadata": {
    "collapsed": false
   },
   "outputs": [
    {
     "data": {
      "text/plain": [
       "2013-Q1    108.1\n",
       "2013-Q2    100.8\n",
       "2013-Q3    106.1\n",
       "2013-Q4    106.7\n",
       "Name: Dubai, dtype: float64"
      ]
     },
     "execution_count": 58,
     "metadata": {},
     "output_type": "execute_result"
    }
   ],
   "source": [
    "dubaiPrices=SpotCrudePrices_2013['Dubai']\n",
    "dubaiPrices"
   ]
  },
  {
   "cell_type": "markdown",
   "metadata": {},
   "source": [
    "Obtain last 3 rows or all rows higher than the first."
   ]
  },
  {
   "cell_type": "code",
   "execution_count": 85,
   "metadata": {
    "collapsed": false
   },
   "outputs": [
    {
     "data": {
      "text/plain": [
       "2013-Q2    100.8\n",
       "2013-Q3    106.1\n",
       "2013-Q4    106.7\n",
       "Name: Dubai, dtype: float64"
      ]
     },
     "execution_count": 85,
     "metadata": {},
     "output_type": "execute_result"
    }
   ],
   "source": [
    "dubaiPrices[1:]"
   ]
  },
  {
   "cell_type": "markdown",
   "metadata": {},
   "source": [
    "Obtain all rows but the last:"
   ]
  },
  {
   "cell_type": "code",
   "execution_count": 86,
   "metadata": {
    "collapsed": false
   },
   "outputs": [
    {
     "data": {
      "text/plain": [
       "2013-Q1    108.1\n",
       "2013-Q2    100.8\n",
       "2013-Q3    106.1\n",
       "Name: Dubai, dtype: float64"
      ]
     },
     "execution_count": 86,
     "metadata": {},
     "output_type": "execute_result"
    }
   ],
   "source": [
    "dubaiPrices[:-1]"
   ]
  },
  {
   "cell_type": "markdown",
   "metadata": {},
   "source": [
    "Reverse the rows:"
   ]
  },
  {
   "cell_type": "code",
   "execution_count": 87,
   "metadata": {
    "collapsed": false
   },
   "outputs": [
    {
     "data": {
      "text/plain": [
       "2013-Q4    106.7\n",
       "2013-Q3    106.1\n",
       "2013-Q2    100.8\n",
       "2013-Q1    108.1\n",
       "Name: Dubai, dtype: float64"
      ]
     },
     "execution_count": 87,
     "metadata": {},
     "output_type": "execute_result"
    }
   ],
   "source": [
    "dubaiPrices[::-1]"
   ]
  },
  {
   "cell_type": "markdown",
   "metadata": {},
   "source": [
    "## Label-oriented Indexing"
   ]
  },
  {
   "cell_type": "markdown",
   "metadata": {},
   "source": [
    "Create a DataFrame:"
   ]
  },
  {
   "cell_type": "code",
   "execution_count": 88,
   "metadata": {
    "collapsed": true
   },
   "outputs": [],
   "source": [
    "NYC_SnowAvgsData={'Months' :          \n",
    "                            ['January','February','March', \n",
    "                            'April', 'November', 'December'],\n",
    "                            'Avg SnowDays' : [4.0,2.7,1.7,0.2,0.2,2.3],\n",
    "                            'Avg Precip. (cm)' : [17.8,22.4,9.1,1.5,0.8,12.2],\n",
    "                            'Avg Low Temp. (F)' : [27,29,35,45,42,32] }\n"
   ]
  },
  {
   "cell_type": "code",
   "execution_count": 89,
   "metadata": {
    "collapsed": false
   },
   "outputs": [
    {
     "data": {
      "text/plain": [
       "{'Avg Low Temp. (F)': [27, 29, 35, 45, 42, 32],\n",
       " 'Avg Precip. (cm)': [17.8, 22.4, 9.1, 1.5, 0.8, 12.2],\n",
       " 'Avg SnowDays': [4.0, 2.7, 1.7, 0.2, 0.2, 2.3],\n",
       " 'Months': ['January', 'February', 'March', 'April', 'November', 'December']}"
      ]
     },
     "execution_count": 89,
     "metadata": {},
     "output_type": "execute_result"
    }
   ],
   "source": [
    "NYC_SnowAvgsData"
   ]
  },
  {
   "cell_type": "code",
   "execution_count": 92,
   "metadata": {
    "collapsed": false
   },
   "outputs": [
    {
     "data": {
      "text/html": [
       "<div>\n",
       "<table border=\"1\" class=\"dataframe\">\n",
       "  <thead>\n",
       "    <tr style=\"text-align: right;\">\n",
       "      <th></th>\n",
       "      <th>Avg SnowDays</th>\n",
       "      <th>Avg Precip. (cm)</th>\n",
       "      <th>Avg Low Temp. (F)</th>\n",
       "    </tr>\n",
       "  </thead>\n",
       "  <tbody>\n",
       "    <tr>\n",
       "      <th>January</th>\n",
       "      <td>4.0</td>\n",
       "      <td>17.8</td>\n",
       "      <td>27</td>\n",
       "    </tr>\n",
       "    <tr>\n",
       "      <th>February</th>\n",
       "      <td>2.7</td>\n",
       "      <td>22.4</td>\n",
       "      <td>29</td>\n",
       "    </tr>\n",
       "    <tr>\n",
       "      <th>March</th>\n",
       "      <td>1.7</td>\n",
       "      <td>9.1</td>\n",
       "      <td>35</td>\n",
       "    </tr>\n",
       "    <tr>\n",
       "      <th>April</th>\n",
       "      <td>0.2</td>\n",
       "      <td>1.5</td>\n",
       "      <td>45</td>\n",
       "    </tr>\n",
       "    <tr>\n",
       "      <th>November</th>\n",
       "      <td>0.2</td>\n",
       "      <td>0.8</td>\n",
       "      <td>42</td>\n",
       "    </tr>\n",
       "    <tr>\n",
       "      <th>December</th>\n",
       "      <td>2.3</td>\n",
       "      <td>12.2</td>\n",
       "      <td>32</td>\n",
       "    </tr>\n",
       "  </tbody>\n",
       "</table>\n",
       "</div>"
      ],
      "text/plain": [
       "          Avg SnowDays  Avg Precip. (cm)  Avg Low Temp. (F)\n",
       "January            4.0              17.8                 27\n",
       "February           2.7              22.4                 29\n",
       "March              1.7               9.1                 35\n",
       "April              0.2               1.5                 45\n",
       "November           0.2               0.8                 42\n",
       "December           2.3              12.2                 32"
      ]
     },
     "execution_count": 92,
     "metadata": {},
     "output_type": "execute_result"
    }
   ],
   "source": [
    "NYC_SnowAvgs=pd.DataFrame(NYC_SnowAvgsData,      \n",
    "                      index=NYC_SnowAvgsData['Months'], \n",
    "                      columns=['Avg SnowDays','Avg Precip. (cm)','Avg Low Temp. (F)']\n",
    "                         )\n",
    "NYC_SnowAvgs\n"
   ]
  },
  {
   "cell_type": "markdown",
   "metadata": {},
   "source": [
    "Using single label with <em>.loc</em> operator:"
   ]
  },
  {
   "cell_type": "code",
   "execution_count": 95,
   "metadata": {
    "collapsed": false
   },
   "outputs": [
    {
     "data": {
      "text/plain": [
       "Avg SnowDays          4.0\n",
       "Avg Precip. (cm)     17.8\n",
       "Avg Low Temp. (F)    27.0\n",
       "Name: January, dtype: float64"
      ]
     },
     "metadata": {},
     "output_type": "display_data"
    }
   ],
   "source": [
    "display(NYC_SnowAvgs.loc['January'])"
   ]
  },
  {
   "cell_type": "markdown",
   "metadata": {},
   "source": [
    "Using list or labels:"
   ]
  },
  {
   "cell_type": "code",
   "execution_count": 96,
   "metadata": {
    "collapsed": false
   },
   "outputs": [
    {
     "data": {
      "text/html": [
       "<div>\n",
       "<table border=\"1\" class=\"dataframe\">\n",
       "  <thead>\n",
       "    <tr style=\"text-align: right;\">\n",
       "      <th></th>\n",
       "      <th>Avg SnowDays</th>\n",
       "      <th>Avg Precip. (cm)</th>\n",
       "      <th>Avg Low Temp. (F)</th>\n",
       "    </tr>\n",
       "  </thead>\n",
       "  <tbody>\n",
       "    <tr>\n",
       "      <th>January</th>\n",
       "      <td>4.0</td>\n",
       "      <td>17.8</td>\n",
       "      <td>27</td>\n",
       "    </tr>\n",
       "    <tr>\n",
       "      <th>April</th>\n",
       "      <td>0.2</td>\n",
       "      <td>1.5</td>\n",
       "      <td>45</td>\n",
       "    </tr>\n",
       "  </tbody>\n",
       "</table>\n",
       "</div>"
      ],
      "text/plain": [
       "         Avg SnowDays  Avg Precip. (cm)  Avg Low Temp. (F)\n",
       "January           4.0              17.8                 27\n",
       "April             0.2               1.5                 45"
      ]
     },
     "execution_count": 96,
     "metadata": {},
     "output_type": "execute_result"
    }
   ],
   "source": [
    "NYC_SnowAvgs.loc[['January','April']]"
   ]
  },
  {
   "cell_type": "markdown",
   "metadata": {},
   "source": [
    "Using label range:"
   ]
  },
  {
   "cell_type": "code",
   "execution_count": 97,
   "metadata": {
    "collapsed": false
   },
   "outputs": [
    {
     "data": {
      "text/html": [
       "<div>\n",
       "<table border=\"1\" class=\"dataframe\">\n",
       "  <thead>\n",
       "    <tr style=\"text-align: right;\">\n",
       "      <th></th>\n",
       "      <th>Avg SnowDays</th>\n",
       "      <th>Avg Precip. (cm)</th>\n",
       "      <th>Avg Low Temp. (F)</th>\n",
       "    </tr>\n",
       "  </thead>\n",
       "  <tbody>\n",
       "    <tr>\n",
       "      <th>January</th>\n",
       "      <td>4.0</td>\n",
       "      <td>17.8</td>\n",
       "      <td>27</td>\n",
       "    </tr>\n",
       "    <tr>\n",
       "      <th>February</th>\n",
       "      <td>2.7</td>\n",
       "      <td>22.4</td>\n",
       "      <td>29</td>\n",
       "    </tr>\n",
       "    <tr>\n",
       "      <th>March</th>\n",
       "      <td>1.7</td>\n",
       "      <td>9.1</td>\n",
       "      <td>35</td>\n",
       "    </tr>\n",
       "  </tbody>\n",
       "</table>\n",
       "</div>"
      ],
      "text/plain": [
       "          Avg SnowDays  Avg Precip. (cm)  Avg Low Temp. (F)\n",
       "January            4.0              17.8                 27\n",
       "February           2.7              22.4                 29\n",
       "March              1.7               9.1                 35"
      ]
     },
     "execution_count": 97,
     "metadata": {},
     "output_type": "execute_result"
    }
   ],
   "source": [
    "NYC_SnowAvgs.loc['January':'March']"
   ]
  },
  {
   "cell_type": "markdown",
   "metadata": {},
   "source": [
    "Row index must be specified first:"
   ]
  },
  {
   "cell_type": "code",
   "execution_count": 100,
   "metadata": {
    "collapsed": false
   },
   "outputs": [],
   "source": [
    "# NYC_SnowAvgs.loc['Avg SnowDays'] # Error"
   ]
  },
  {
   "cell_type": "code",
   "execution_count": 101,
   "metadata": {
    "collapsed": false
   },
   "outputs": [
    {
     "data": {
      "text/plain": [
       "January     4.0\n",
       "February    2.7\n",
       "March       1.7\n",
       "April       0.2\n",
       "November    0.2\n",
       "December    2.3\n",
       "Name: Avg SnowDays, dtype: float64"
      ]
     },
     "execution_count": 101,
     "metadata": {},
     "output_type": "execute_result"
    }
   ],
   "source": [
    "NYC_SnowAvgs.loc[:,'Avg SnowDays']"
   ]
  },
  {
   "cell_type": "markdown",
   "metadata": {},
   "source": [
    "Specific 'coordinate' selection"
   ]
  },
  {
   "cell_type": "code",
   "execution_count": 102,
   "metadata": {
    "collapsed": false
   },
   "outputs": [
    {
     "data": {
      "text/plain": [
       "1.7"
      ]
     },
     "execution_count": 102,
     "metadata": {},
     "output_type": "execute_result"
    }
   ],
   "source": [
    "NYC_SnowAvgs.loc['March','Avg SnowDays']"
   ]
  },
  {
   "cell_type": "markdown",
   "metadata": {},
   "source": [
    "Alternative style:"
   ]
  },
  {
   "cell_type": "code",
   "execution_count": 103,
   "metadata": {
    "collapsed": false
   },
   "outputs": [
    {
     "data": {
      "text/plain": [
       "1.7"
      ]
     },
     "execution_count": 103,
     "metadata": {},
     "output_type": "execute_result"
    }
   ],
   "source": [
    "NYC_SnowAvgs.loc['March']['Avg SnowDays']"
   ]
  },
  {
   "cell_type": "markdown",
   "metadata": {},
   "source": [
    "Using square brackets ( [ ] ):"
   ]
  },
  {
   "cell_type": "code",
   "execution_count": 104,
   "metadata": {
    "collapsed": false
   },
   "outputs": [
    {
     "data": {
      "text/plain": [
       "1.7"
      ]
     },
     "execution_count": 104,
     "metadata": {},
     "output_type": "execute_result"
    }
   ],
   "source": [
    "NYC_SnowAvgs['Avg SnowDays']['March']"
   ]
  },
  {
   "cell_type": "markdown",
   "metadata": {},
   "source": [
    "[ ] operator cannot be used to select rows directly."
   ]
  },
  {
   "cell_type": "code",
   "execution_count": 106,
   "metadata": {
    "collapsed": false
   },
   "outputs": [],
   "source": [
    "# NYC_SnowAvgs['March']['Avg SnowDays']"
   ]
  },
  {
   "cell_type": "markdown",
   "metadata": {},
   "source": [
    "Use <em>.loc</em> operator instead"
   ]
  },
  {
   "cell_type": "code",
   "execution_count": 107,
   "metadata": {
    "collapsed": false
   },
   "outputs": [
    {
     "data": {
      "text/plain": [
       "Avg SnowDays          1.7\n",
       "Avg Precip. (cm)      9.1\n",
       "Avg Low Temp. (F)    35.0\n",
       "Name: March, dtype: float64"
      ]
     },
     "execution_count": 107,
     "metadata": {},
     "output_type": "execute_result"
    }
   ],
   "source": [
    "NYC_SnowAvgs.loc['March']"
   ]
  },
  {
   "cell_type": "markdown",
   "metadata": {},
   "source": [
    "<h3>Selection using a Boolean array</h3>"
   ]
  },
  {
   "cell_type": "code",
   "execution_count": 108,
   "metadata": {
    "collapsed": false
   },
   "outputs": [
    {
     "data": {
      "text/html": [
       "<div>\n",
       "<table border=\"1\" class=\"dataframe\">\n",
       "  <thead>\n",
       "    <tr style=\"text-align: right;\">\n",
       "      <th></th>\n",
       "      <th>Avg SnowDays</th>\n",
       "      <th>Avg Precip. (cm)</th>\n",
       "      <th>Avg Low Temp. (F)</th>\n",
       "    </tr>\n",
       "  </thead>\n",
       "  <tbody>\n",
       "    <tr>\n",
       "      <th>April</th>\n",
       "      <td>0.2</td>\n",
       "      <td>1.5</td>\n",
       "      <td>45</td>\n",
       "    </tr>\n",
       "    <tr>\n",
       "      <th>November</th>\n",
       "      <td>0.2</td>\n",
       "      <td>0.8</td>\n",
       "      <td>42</td>\n",
       "    </tr>\n",
       "  </tbody>\n",
       "</table>\n",
       "</div>"
      ],
      "text/plain": [
       "          Avg SnowDays  Avg Precip. (cm)  Avg Low Temp. (F)\n",
       "April              0.2               1.5                 45\n",
       "November           0.2               0.8                 42"
      ]
     },
     "execution_count": 108,
     "metadata": {},
     "output_type": "execute_result"
    }
   ],
   "source": [
    "NYC_SnowAvgs.loc[NYC_SnowAvgs['Avg SnowDays']<1,:]"
   ]
  },
  {
   "cell_type": "code",
   "execution_count": 109,
   "metadata": {
    "collapsed": false
   },
   "outputs": [
    {
     "data": {
      "text/html": [
       "<div>\n",
       "<table border=\"1\" class=\"dataframe\">\n",
       "  <thead>\n",
       "    <tr style=\"text-align: right;\">\n",
       "      <th></th>\n",
       "      <th>UK_Brent</th>\n",
       "    </tr>\n",
       "  </thead>\n",
       "  <tbody>\n",
       "    <tr>\n",
       "      <th>2013-Q1</th>\n",
       "      <td>112.9</td>\n",
       "    </tr>\n",
       "    <tr>\n",
       "      <th>2013-Q2</th>\n",
       "      <td>103.0</td>\n",
       "    </tr>\n",
       "    <tr>\n",
       "      <th>2013-Q3</th>\n",
       "      <td>110.1</td>\n",
       "    </tr>\n",
       "    <tr>\n",
       "      <th>2013-Q4</th>\n",
       "      <td>109.4</td>\n",
       "    </tr>\n",
       "  </tbody>\n",
       "</table>\n",
       "</div>"
      ],
      "text/plain": [
       "         UK_Brent\n",
       "2013-Q1     112.9\n",
       "2013-Q2     103.0\n",
       "2013-Q3     110.1\n",
       "2013-Q4     109.4"
      ]
     },
     "execution_count": 109,
     "metadata": {},
     "output_type": "execute_result"
    }
   ],
   "source": [
    "SpotCrudePrices_2013.loc[:,SpotCrudePrices_2013.loc['2013-Q1']>110]"
   ]
  },
  {
   "cell_type": "code",
   "execution_count": 110,
   "metadata": {
    "collapsed": false
   },
   "outputs": [
    {
     "data": {
      "text/plain": [
       "Dubai                      False\n",
       "UK_Brent                    True\n",
       "West_Texas_Intermediate    False\n",
       "Name: 2013-Q1, dtype: bool"
      ]
     },
     "execution_count": 110,
     "metadata": {},
     "output_type": "execute_result"
    }
   ],
   "source": [
    "SpotCrudePrices_2013.loc['2013-Q1']>110"
   ]
  },
  {
   "cell_type": "markdown",
   "metadata": {},
   "source": [
    "<h2>Integer-oriented Indexing</h2>"
   ]
  },
  {
   "cell_type": "markdown",
   "metadata": {},
   "source": [
    "Create DataFrame"
   ]
  },
  {
   "cell_type": "code",
   "execution_count": 111,
   "metadata": {
    "collapsed": true
   },
   "outputs": [],
   "source": [
    "import scipy.constants as phys\n",
    "import math"
   ]
  },
  {
   "cell_type": "code",
   "execution_count": 113,
   "metadata": {
    "collapsed": false
   },
   "outputs": [
    {
     "data": {
      "text/html": [
       "<div>\n",
       "<table border=\"1\" class=\"dataframe\">\n",
       "  <thead>\n",
       "    <tr style=\"text-align: right;\">\n",
       "      <th></th>\n",
       "      <th>0</th>\n",
       "      <th>1</th>\n",
       "      <th>2</th>\n",
       "    </tr>\n",
       "  </thead>\n",
       "  <tbody>\n",
       "    <tr>\n",
       "      <th>0</th>\n",
       "      <td>3.141593e+00</td>\n",
       "      <td>1.224647e-16</td>\n",
       "      <td>-1.000000e+00</td>\n",
       "    </tr>\n",
       "    <tr>\n",
       "      <th>5</th>\n",
       "      <td>2.718282e+00</td>\n",
       "      <td>1.000000e+00</td>\n",
       "      <td>1.618034e+00</td>\n",
       "    </tr>\n",
       "    <tr>\n",
       "      <th>10</th>\n",
       "      <td>2.997925e+08</td>\n",
       "      <td>9.806650e+00</td>\n",
       "      <td>1.602177e-19</td>\n",
       "    </tr>\n",
       "    <tr>\n",
       "      <th>15</th>\n",
       "      <td>9.109384e-31</td>\n",
       "      <td>1.672622e-27</td>\n",
       "      <td>1.674927e-27</td>\n",
       "    </tr>\n",
       "  </tbody>\n",
       "</table>\n",
       "</div>"
      ],
      "text/plain": [
       "               0             1             2\n",
       "0   3.141593e+00  1.224647e-16 -1.000000e+00\n",
       "5   2.718282e+00  1.000000e+00  1.618034e+00\n",
       "10  2.997925e+08  9.806650e+00  1.602177e-19\n",
       "15  9.109384e-31  1.672622e-27  1.674927e-27"
      ]
     },
     "execution_count": 113,
     "metadata": {},
     "output_type": "execute_result"
    }
   ],
   "source": [
    "sci_values=pd.DataFrame([[math.pi, math.sin(math.pi), \n",
    "                                    math.cos(math.pi)],\n",
    "                                   [math.e,math.log(math.e), \n",
    "                                    phys.golden],\n",
    "                                   [phys.c,phys.g,phys.e],\n",
    "                                   [phys.m_e,phys.m_p,phys.m_n]],\n",
    "                          index=list(range(0,20,5)))\n",
    "sci_values"
   ]
  },
  {
   "cell_type": "markdown",
   "metadata": {},
   "source": [
    "Select first two rows using integer slicing:"
   ]
  },
  {
   "cell_type": "code",
   "execution_count": 114,
   "metadata": {
    "collapsed": false
   },
   "outputs": [
    {
     "data": {
      "text/html": [
       "<div>\n",
       "<table border=\"1\" class=\"dataframe\">\n",
       "  <thead>\n",
       "    <tr style=\"text-align: right;\">\n",
       "      <th></th>\n",
       "      <th>0</th>\n",
       "      <th>1</th>\n",
       "      <th>2</th>\n",
       "    </tr>\n",
       "  </thead>\n",
       "  <tbody>\n",
       "    <tr>\n",
       "      <th>0</th>\n",
       "      <td>3.141593</td>\n",
       "      <td>1.224647e-16</td>\n",
       "      <td>-1.000000</td>\n",
       "    </tr>\n",
       "    <tr>\n",
       "      <th>5</th>\n",
       "      <td>2.718282</td>\n",
       "      <td>1.000000e+00</td>\n",
       "      <td>1.618034</td>\n",
       "    </tr>\n",
       "  </tbody>\n",
       "</table>\n",
       "</div>"
      ],
      "text/plain": [
       "          0             1         2\n",
       "0  3.141593  1.224647e-16 -1.000000\n",
       "5  2.718282  1.000000e+00  1.618034"
      ]
     },
     "execution_count": 114,
     "metadata": {},
     "output_type": "execute_result"
    }
   ],
   "source": [
    "sci_values.iloc[:2]"
   ]
  },
  {
   "cell_type": "markdown",
   "metadata": {},
   "source": [
    "Select speed of light and acceleration of gravity in the 3rd row:"
   ]
  },
  {
   "cell_type": "code",
   "execution_count": 115,
   "metadata": {
    "collapsed": false
   },
   "outputs": [
    {
     "data": {
      "text/plain": [
       "0    2.997925e+08\n",
       "1    9.806650e+00\n",
       "Name: 10, dtype: float64"
      ]
     },
     "execution_count": 115,
     "metadata": {},
     "output_type": "execute_result"
    }
   ],
   "source": [
    "sci_values.iloc[2,0:2]"
   ]
  },
  {
   "cell_type": "markdown",
   "metadata": {},
   "source": [
    "Arguments to <em>.iloc</em> are strictly positional:"
   ]
  },
  {
   "cell_type": "code",
   "execution_count": 118,
   "metadata": {
    "collapsed": false
   },
   "outputs": [],
   "source": [
    "# sci_values.iloc[10] # Error"
   ]
  },
  {
   "cell_type": "markdown",
   "metadata": {},
   "source": [
    "Use <em>.loc</em> instead:"
   ]
  },
  {
   "cell_type": "code",
   "execution_count": 119,
   "metadata": {
    "collapsed": false
   },
   "outputs": [
    {
     "data": {
      "text/plain": [
       "0    2.997925e+08\n",
       "1    9.806650e+00\n",
       "2    1.602177e-19\n",
       "Name: 10, dtype: float64"
      ]
     },
     "execution_count": 119,
     "metadata": {},
     "output_type": "execute_result"
    }
   ],
   "source": [
    "sci_values.loc[10]"
   ]
  },
  {
   "cell_type": "markdown",
   "metadata": {},
   "source": [
    "Slice out specific row:"
   ]
  },
  {
   "cell_type": "code",
   "execution_count": 120,
   "metadata": {
    "collapsed": false
   },
   "outputs": [
    {
     "data": {
      "text/html": [
       "<div>\n",
       "<table border=\"1\" class=\"dataframe\">\n",
       "  <thead>\n",
       "    <tr style=\"text-align: right;\">\n",
       "      <th></th>\n",
       "      <th>0</th>\n",
       "      <th>1</th>\n",
       "      <th>2</th>\n",
       "    </tr>\n",
       "  </thead>\n",
       "  <tbody>\n",
       "    <tr>\n",
       "      <th>10</th>\n",
       "      <td>299792458.0</td>\n",
       "      <td>9.80665</td>\n",
       "      <td>1.602177e-19</td>\n",
       "    </tr>\n",
       "  </tbody>\n",
       "</table>\n",
       "</div>"
      ],
      "text/plain": [
       "              0        1             2\n",
       "10  299792458.0  9.80665  1.602177e-19"
      ]
     },
     "execution_count": 120,
     "metadata": {},
     "output_type": "execute_result"
    }
   ],
   "source": [
    "sci_values.iloc[2:3,:]"
   ]
  },
  {
   "cell_type": "markdown",
   "metadata": {},
   "source": [
    "Obtain cross-section using integer position:"
   ]
  },
  {
   "cell_type": "code",
   "execution_count": 121,
   "metadata": {
    "collapsed": false
   },
   "outputs": [
    {
     "data": {
      "text/plain": [
       "0    9.109384e-31\n",
       "1    1.672622e-27\n",
       "2    1.674927e-27\n",
       "Name: 15, dtype: float64"
      ]
     },
     "execution_count": 121,
     "metadata": {},
     "output_type": "execute_result"
    }
   ],
   "source": [
    "sci_values.iloc[3]"
   ]
  },
  {
   "cell_type": "markdown",
   "metadata": {},
   "source": [
    "Attempt to slice past the end of the array : "
   ]
  },
  {
   "cell_type": "code",
   "execution_count": 123,
   "metadata": {
    "collapsed": false
   },
   "outputs": [],
   "source": [
    "# sci_values.iloc[6,:]"
   ]
  },
  {
   "cell_type": "markdown",
   "metadata": {},
   "source": [
    "Selection of scalar values and timings."
   ]
  },
  {
   "cell_type": "code",
   "execution_count": 124,
   "metadata": {
    "collapsed": false
   },
   "outputs": [
    {
     "data": {
      "text/plain": [
       "9.1093835599999998e-31"
      ]
     },
     "execution_count": 124,
     "metadata": {},
     "output_type": "execute_result"
    }
   ],
   "source": [
    "sci_values.iloc[3,0]"
   ]
  },
  {
   "cell_type": "code",
   "execution_count": 125,
   "metadata": {
    "collapsed": false
   },
   "outputs": [
    {
     "data": {
      "text/plain": [
       "9.1093835599999998e-31"
      ]
     },
     "execution_count": 125,
     "metadata": {},
     "output_type": "execute_result"
    }
   ],
   "source": [
    "sci_values.iat[3,0]"
   ]
  },
  {
   "cell_type": "code",
   "execution_count": 126,
   "metadata": {
    "collapsed": false
   },
   "outputs": [
    {
     "name": "stdout",
     "output_type": "stream",
     "text": [
      "The slowest run took 4.10 times longer than the fastest. This could mean that an intermediate result is being cached.\n",
      "1000 loops, best of 3: 131 µs per loop\n"
     ]
    }
   ],
   "source": [
    "%timeit sci_values.iloc[3,0]"
   ]
  },
  {
   "cell_type": "code",
   "execution_count": 127,
   "metadata": {
    "collapsed": false
   },
   "outputs": [
    {
     "name": "stdout",
     "output_type": "stream",
     "text": [
      "The slowest run took 11.26 times longer than the fastest. This could mean that an intermediate result is being cached.\n",
      "100000 loops, best of 3: 8.42 µs per loop\n"
     ]
    }
   ],
   "source": [
    "%timeit sci_values.iat[3,0]"
   ]
  },
  {
   "cell_type": "markdown",
   "metadata": {},
   "source": [
    "<h2>Mixed Indexing with the .ix operator</h2>"
   ]
  },
  {
   "cell_type": "code",
   "execution_count": 129,
   "metadata": {
    "collapsed": false
   },
   "outputs": [],
   "source": [
    "# stockIndexDataDF=pd.read_csv('data/stock_index_data.csv')"
   ]
  },
  {
   "cell_type": "code",
   "execution_count": null,
   "metadata": {
    "collapsed": false
   },
   "outputs": [],
   "source": [
    "stockIndexDataDF"
   ]
  },
  {
   "cell_type": "code",
   "execution_count": null,
   "metadata": {
    "collapsed": false
   },
   "outputs": [],
   "source": [
    "stockIndexDF=stockIndexDataDF.set_index('TradingDate')\n",
    "stockIndexDF"
   ]
  },
  {
   "cell_type": "markdown",
   "metadata": {},
   "source": [
    "<b>Using a single label:</b>"
   ]
  },
  {
   "cell_type": "code",
   "execution_count": null,
   "metadata": {
    "collapsed": false
   },
   "outputs": [],
   "source": [
    "stockIndexDF.ix['2014/01/30']"
   ]
  },
  {
   "cell_type": "markdown",
   "metadata": {},
   "source": [
    "<b>Using list of labels</b>:"
   ]
  },
  {
   "cell_type": "code",
   "execution_count": null,
   "metadata": {
    "collapsed": false
   },
   "outputs": [],
   "source": [
    "stockIndexDF.ix[['2014/01/30']]"
   ]
  },
  {
   "cell_type": "markdown",
   "metadata": {},
   "source": [
    "<b>Difference between using scalar indexer and list indexer:</b>"
   ]
  },
  {
   "cell_type": "code",
   "execution_count": null,
   "metadata": {
    "collapsed": false
   },
   "outputs": [],
   "source": [
    "type(stockIndexDF.ix['2014/01/30'])"
   ]
  },
  {
   "cell_type": "code",
   "execution_count": null,
   "metadata": {
    "collapsed": false
   },
   "outputs": [],
   "source": [
    "type(stockIndexDF.ix[['2014/01/30']])"
   ]
  },
  {
   "cell_type": "markdown",
   "metadata": {},
   "source": [
    "<b>Using a label-based slice:</b>"
   ]
  },
  {
   "cell_type": "code",
   "execution_count": null,
   "metadata": {
    "collapsed": true
   },
   "outputs": [],
   "source": [
    "tradingDates=stockIndexDataDF.TradingDate"
   ]
  },
  {
   "cell_type": "code",
   "execution_count": null,
   "metadata": {
    "collapsed": false
   },
   "outputs": [],
   "source": [
    "stockIndexDF.ix[tradingDates[:3]]"
   ]
  },
  {
   "cell_type": "markdown",
   "metadata": {},
   "source": [
    "<b>Using a single integer:</b>"
   ]
  },
  {
   "cell_type": "code",
   "execution_count": null,
   "metadata": {
    "collapsed": false
   },
   "outputs": [],
   "source": [
    "stockIndexDF.ix[0]"
   ]
  },
  {
   "cell_type": "markdown",
   "metadata": {},
   "source": [
    "<b>Using a list of integers:</b>"
   ]
  },
  {
   "cell_type": "code",
   "execution_count": null,
   "metadata": {
    "collapsed": false
   },
   "outputs": [],
   "source": [
    "stockIndexDF.ix[[0,2]]"
   ]
  },
  {
   "cell_type": "markdown",
   "metadata": {},
   "source": [
    "<b>Using an integer slice:</b>"
   ]
  },
  {
   "cell_type": "code",
   "execution_count": null,
   "metadata": {
    "collapsed": false
   },
   "outputs": [],
   "source": [
    "stockIndexDF.ix[1:3]"
   ]
  },
  {
   "cell_type": "markdown",
   "metadata": {},
   "source": [
    "<b>Using a boolean array:</b>"
   ]
  },
  {
   "cell_type": "code",
   "execution_count": null,
   "metadata": {
    "collapsed": false
   },
   "outputs": [],
   "source": [
    "stockIndexDF.ix[stockIndexDF['Russell 2000']>1100]"
   ]
  },
  {
   "cell_type": "markdown",
   "metadata": {},
   "source": [
    "<h2>Multi-Indexing</h2>"
   ]
  },
  {
   "cell_type": "markdown",
   "metadata": {},
   "source": [
    "<b>Read stock index data:</b>"
   ]
  },
  {
   "cell_type": "code",
   "execution_count": null,
   "metadata": {
    "collapsed": false
   },
   "outputs": [],
   "source": [
    "sharesIndexDataDF=pd.read_csv('./data/stock_index_prices.csv')"
   ]
  },
  {
   "cell_type": "code",
   "execution_count": null,
   "metadata": {
    "collapsed": false
   },
   "outputs": [],
   "source": [
    "sharesIndexDataDF"
   ]
  },
  {
   "cell_type": "markdown",
   "metadata": {},
   "source": [
    "<b>Create a MultiIndex :</b>"
   ]
  },
  {
   "cell_type": "code",
   "execution_count": null,
   "metadata": {
    "collapsed": true
   },
   "outputs": [],
   "source": [
    "sharesIndexDF=sharesIndexDataDF.set_index(['TradingDate','PriceType'])"
   ]
  },
  {
   "cell_type": "code",
   "execution_count": null,
   "metadata": {
    "collapsed": false
   },
   "outputs": [],
   "source": [
    "mIndex=sharesIndexDF.index; mIndex"
   ]
  },
  {
   "cell_type": "code",
   "execution_count": null,
   "metadata": {
    "collapsed": false
   },
   "outputs": [],
   "source": [
    "sharesIndexDF"
   ]
  },
  {
   "cell_type": "markdown",
   "metadata": {},
   "source": [
    "<b>Apply get_level_values function:</b>"
   ]
  },
  {
   "cell_type": "code",
   "execution_count": null,
   "metadata": {
    "collapsed": false
   },
   "outputs": [],
   "source": [
    "mIndex.get_level_values(0)"
   ]
  },
  {
   "cell_type": "code",
   "execution_count": null,
   "metadata": {
    "collapsed": false
   },
   "outputs": [],
   "source": [
    "mIndex.get_level_values(1)"
   ]
  },
  {
   "cell_type": "code",
   "execution_count": null,
   "metadata": {
    "collapsed": false
   },
   "outputs": [],
   "source": [
    "mIndex.get_level_values(2)"
   ]
  },
  {
   "cell_type": "markdown",
   "metadata": {},
   "source": [
    "<b>Hierarchical indexing with a multi-indexed DataFrame:</b>"
   ]
  },
  {
   "cell_type": "code",
   "execution_count": null,
   "metadata": {
    "collapsed": false
   },
   "outputs": [],
   "source": [
    "sharesIndexDF.ix['2014/02/21']"
   ]
  },
  {
   "cell_type": "code",
   "execution_count": null,
   "metadata": {
    "collapsed": false
   },
   "outputs": [],
   "source": [
    "sharesIndexDF.ix['2014/02/21','open']"
   ]
  },
  {
   "cell_type": "markdown",
   "metadata": {},
   "source": [
    "<b>Slice using a multi-index:</b>"
   ]
  },
  {
   "cell_type": "code",
   "execution_count": null,
   "metadata": {
    "collapsed": false
   },
   "outputs": [],
   "source": [
    "sharesIndexDF.ix['2014/02/21':'2014/02/24']"
   ]
  },
  {
   "cell_type": "markdown",
   "metadata": {},
   "source": [
    "<b>Try slicing at a lower level:</b>"
   ]
  },
  {
   "cell_type": "code",
   "execution_count": null,
   "metadata": {
    "collapsed": false
   },
   "outputs": [],
   "source": [
    "sharesIndexDF.ix[('2014/02/21','open'):('2014/02/24','open')]"
   ]
  },
  {
   "cell_type": "markdown",
   "metadata": {},
   "source": [
    "Sort first before slicing with a MultiIndex:"
   ]
  },
  {
   "cell_type": "code",
   "execution_count": null,
   "metadata": {
    "collapsed": false
   },
   "outputs": [],
   "source": [
    "sharesIndexDF.sortlevel(0).ix[('2014/02/21','open'):('2014/02/24','open')]"
   ]
  },
  {
   "cell_type": "code",
   "execution_count": null,
   "metadata": {
    "collapsed": false
   },
   "outputs": [],
   "source": [
    "sharesIndexDF.sortlevel(0).ix[('2014/02/21','close'):('2014/02/24','close')]"
   ]
  },
  {
   "cell_type": "markdown",
   "metadata": {},
   "source": [
    "<b>Pass list of tuples:</b>"
   ]
  },
  {
   "cell_type": "code",
   "execution_count": null,
   "metadata": {
    "collapsed": false
   },
   "outputs": [],
   "source": [
    "sharesIndexDF.sortlevel(0).ix[[('2014/02/21','open'),('2014/02/24','open')]]"
   ]
  },
  {
   "cell_type": "markdown",
   "metadata": {},
   "source": [
    "<b>Use of the swaplevel function:</b>"
   ]
  },
  {
   "cell_type": "code",
   "execution_count": null,
   "metadata": {
    "collapsed": false
   },
   "outputs": [],
   "source": [
    "swappedDF=sharesIndexDF[:7].swaplevel(0, 1, axis=0)\n",
    "swappedDF"
   ]
  },
  {
   "cell_type": "code",
   "execution_count": null,
   "metadata": {
    "collapsed": false
   },
   "outputs": [],
   "source": [
    "reorderedDF=sharesIndexDF[:7].reorder_levels(['PriceType', \n",
    "                                                      'TradingDate'], \n",
    "                                                       axis=0)\n",
    "reorderedDF\n"
   ]
  },
  {
   "cell_type": "markdown",
   "metadata": {},
   "source": [
    "<h2>Cross-sections</h2>"
   ]
  },
  {
   "cell_type": "markdown",
   "metadata": {},
   "source": [
    "<b>xs( ) method</b>"
   ]
  },
  {
   "cell_type": "code",
   "execution_count": null,
   "metadata": {
    "collapsed": false
   },
   "outputs": [],
   "source": [
    "sharesIndexDF.xs('open',level='PriceType')"
   ]
  },
  {
   "cell_type": "markdown",
   "metadata": {},
   "source": [
    "<b>swaplevel( ) alternative:</b>"
   ]
  },
  {
   "cell_type": "code",
   "execution_count": null,
   "metadata": {
    "collapsed": false
   },
   "outputs": [],
   "source": [
    "sharesIndexDF.swaplevel(0, 1, axis=0).ix['open']"
   ]
  },
  {
   "cell_type": "markdown",
   "metadata": {},
   "source": [
    "<h1>Boolean Indexing</h2>"
   ]
  },
  {
   "cell_type": "markdown",
   "metadata": {},
   "source": [
    "<B>Trading dates for which NASD closed above 4300:</b>"
   ]
  },
  {
   "cell_type": "code",
   "execution_count": null,
   "metadata": {
    "collapsed": false
   },
   "outputs": [],
   "source": [
    "sharesIndexDataDF"
   ]
  },
  {
   "cell_type": "code",
   "execution_count": null,
   "metadata": {
    "collapsed": false
   },
   "outputs": [],
   "source": [
    "sharesIndexDataDF.ix[(sharesIndexDataDF['PriceType']=='close') & \\\n",
    "                     (sharesIndexDataDF['Nasdaq']>4300) ]"
   ]
  },
  {
   "cell_type": "code",
   "execution_count": null,
   "metadata": {
    "collapsed": false
   },
   "outputs": [],
   "source": [
    "highSelection=sharesIndexDataDF['PriceType']=='high'\n",
    "NasdaqHigh=sharesIndexDataDF['Nasdaq']<4300\n",
    "sharesIndexDataDF.ix[highSelection & NasdaqHigh]\n"
   ]
  },
  {
   "cell_type": "markdown",
   "metadata": {},
   "source": [
    "<h2>isin, any all methods</h2>"
   ]
  },
  {
   "cell_type": "code",
   "execution_count": null,
   "metadata": {
    "collapsed": false
   },
   "outputs": [],
   "source": [
    "stockSeries=pd.Series(['NFLX','AMZN','GOOG','FB','TWTR'])\n",
    "stockSeries.isin(['AMZN','FB'])\n"
   ]
  },
  {
   "cell_type": "code",
   "execution_count": null,
   "metadata": {
    "collapsed": false
   },
   "outputs": [],
   "source": [
    "stockSeries[stockSeries.isin(['AMZN','FB'])]"
   ]
  },
  {
   "cell_type": "code",
   "execution_count": 130,
   "metadata": {
    "collapsed": false
   },
   "outputs": [],
   "source": [
    "australianMammals = {'kangaroo': {'Subclass':'marsupial', \n",
    "                              'Origin':'native'},\n",
    "               'flying fox' : {'Subclass':'placental', \n",
    "                               'Origin':'native'},              \n",
    "               'black rat': {'Subclass':'placental', \n",
    "                             'Origin':'invasive'},\n",
    "               'platypus' : {'Subclass':'monotreme', \n",
    "                             'Origin':'native'},\n",
    "               'wallaby' :  {'Subclass':'marsupial', \n",
    "                             'Origin':'native'},\n",
    "        'palm squirrel' : {'Subclass':'placental', \n",
    "                           'Origin':'invasive'},\n",
    "        'anteater':     {'Subclass':'monotreme', \n",
    "                         'Origin':'native'},\n",
    "        'koala':        {'Subclass':'marsupial', \n",
    "                         'Origin':'native'}\n",
    "}\n",
    "\n"
   ]
  },
  {
   "cell_type": "code",
   "execution_count": 131,
   "metadata": {
    "collapsed": true
   },
   "outputs": [],
   "source": [
    "ozzieMammalsDF=pd.DataFrame(australianMammals)"
   ]
  },
  {
   "cell_type": "code",
   "execution_count": 132,
   "metadata": {
    "collapsed": false
   },
   "outputs": [
    {
     "data": {
      "text/html": [
       "<div>\n",
       "<table border=\"1\" class=\"dataframe\">\n",
       "  <thead>\n",
       "    <tr style=\"text-align: right;\">\n",
       "      <th></th>\n",
       "      <th>Origin</th>\n",
       "      <th>Subclass</th>\n",
       "    </tr>\n",
       "  </thead>\n",
       "  <tbody>\n",
       "    <tr>\n",
       "      <th>anteater</th>\n",
       "      <td>native</td>\n",
       "      <td>monotreme</td>\n",
       "    </tr>\n",
       "    <tr>\n",
       "      <th>black rat</th>\n",
       "      <td>invasive</td>\n",
       "      <td>placental</td>\n",
       "    </tr>\n",
       "    <tr>\n",
       "      <th>flying fox</th>\n",
       "      <td>native</td>\n",
       "      <td>placental</td>\n",
       "    </tr>\n",
       "    <tr>\n",
       "      <th>kangaroo</th>\n",
       "      <td>native</td>\n",
       "      <td>marsupial</td>\n",
       "    </tr>\n",
       "    <tr>\n",
       "      <th>koala</th>\n",
       "      <td>native</td>\n",
       "      <td>marsupial</td>\n",
       "    </tr>\n",
       "    <tr>\n",
       "      <th>palm squirrel</th>\n",
       "      <td>invasive</td>\n",
       "      <td>placental</td>\n",
       "    </tr>\n",
       "    <tr>\n",
       "      <th>platypus</th>\n",
       "      <td>native</td>\n",
       "      <td>monotreme</td>\n",
       "    </tr>\n",
       "    <tr>\n",
       "      <th>wallaby</th>\n",
       "      <td>native</td>\n",
       "      <td>marsupial</td>\n",
       "    </tr>\n",
       "  </tbody>\n",
       "</table>\n",
       "</div>"
      ],
      "text/plain": [
       "                 Origin   Subclass\n",
       "anteater         native  monotreme\n",
       "black rat      invasive  placental\n",
       "flying fox       native  placental\n",
       "kangaroo         native  marsupial\n",
       "koala            native  marsupial\n",
       "palm squirrel  invasive  placental\n",
       "platypus         native  monotreme\n",
       "wallaby          native  marsupial"
      ]
     },
     "execution_count": 132,
     "metadata": {},
     "output_type": "execute_result"
    }
   ],
   "source": [
    "aussieMammalsDF=ozzieMammalsDF.T; aussieMammalsDF"
   ]
  },
  {
   "cell_type": "code",
   "execution_count": 138,
   "metadata": {
    "collapsed": false
   },
   "outputs": [
    {
     "data": {
      "text/html": [
       "<div>\n",
       "<table border=\"1\" class=\"dataframe\">\n",
       "  <thead>\n",
       "    <tr style=\"text-align: right;\">\n",
       "      <th></th>\n",
       "      <th>anteater</th>\n",
       "      <th>black rat</th>\n",
       "      <th>flying fox</th>\n",
       "      <th>kangaroo</th>\n",
       "      <th>koala</th>\n",
       "      <th>palm squirrel</th>\n",
       "      <th>platypus</th>\n",
       "      <th>wallaby</th>\n",
       "    </tr>\n",
       "  </thead>\n",
       "  <tbody>\n",
       "    <tr>\n",
       "      <th>Origin</th>\n",
       "      <td>native</td>\n",
       "      <td>invasive</td>\n",
       "      <td>native</td>\n",
       "      <td>native</td>\n",
       "      <td>native</td>\n",
       "      <td>invasive</td>\n",
       "      <td>native</td>\n",
       "      <td>native</td>\n",
       "    </tr>\n",
       "    <tr>\n",
       "      <th>Subclass</th>\n",
       "      <td>monotreme</td>\n",
       "      <td>placental</td>\n",
       "      <td>placental</td>\n",
       "      <td>marsupial</td>\n",
       "      <td>marsupial</td>\n",
       "      <td>placental</td>\n",
       "      <td>monotreme</td>\n",
       "      <td>marsupial</td>\n",
       "    </tr>\n",
       "  </tbody>\n",
       "</table>\n",
       "</div>"
      ],
      "text/plain": [
       "           anteater  black rat flying fox   kangaroo      koala palm squirrel  \\\n",
       "Origin       native   invasive     native     native     native      invasive   \n",
       "Subclass  monotreme  placental  placental  marsupial  marsupial     placental   \n",
       "\n",
       "           platypus    wallaby  \n",
       "Origin       native     native  \n",
       "Subclass  monotreme  marsupial  "
      ]
     },
     "execution_count": 138,
     "metadata": {},
     "output_type": "execute_result"
    }
   ],
   "source": [
    "# jesse test for View\n",
    "aussieMammalsDF.loc['anteater','Origin']='native';ozzieMammalsDF\n",
    "# Yes, update aussieMammalsDF mean update ozzieMammalsDF too"
   ]
  },
  {
   "cell_type": "code",
   "execution_count": 139,
   "metadata": {
    "collapsed": false
   },
   "outputs": [
    {
     "data": {
      "text/html": [
       "<div>\n",
       "<table border=\"1\" class=\"dataframe\">\n",
       "  <thead>\n",
       "    <tr style=\"text-align: right;\">\n",
       "      <th></th>\n",
       "      <th>Origin</th>\n",
       "      <th>Subclass</th>\n",
       "    </tr>\n",
       "  </thead>\n",
       "  <tbody>\n",
       "    <tr>\n",
       "      <th>anteater</th>\n",
       "      <td>True</td>\n",
       "      <td>False</td>\n",
       "    </tr>\n",
       "    <tr>\n",
       "      <th>black rat</th>\n",
       "      <td>False</td>\n",
       "      <td>False</td>\n",
       "    </tr>\n",
       "    <tr>\n",
       "      <th>flying fox</th>\n",
       "      <td>True</td>\n",
       "      <td>False</td>\n",
       "    </tr>\n",
       "    <tr>\n",
       "      <th>kangaroo</th>\n",
       "      <td>True</td>\n",
       "      <td>True</td>\n",
       "    </tr>\n",
       "    <tr>\n",
       "      <th>koala</th>\n",
       "      <td>True</td>\n",
       "      <td>True</td>\n",
       "    </tr>\n",
       "    <tr>\n",
       "      <th>palm squirrel</th>\n",
       "      <td>False</td>\n",
       "      <td>False</td>\n",
       "    </tr>\n",
       "    <tr>\n",
       "      <th>platypus</th>\n",
       "      <td>True</td>\n",
       "      <td>False</td>\n",
       "    </tr>\n",
       "    <tr>\n",
       "      <th>wallaby</th>\n",
       "      <td>True</td>\n",
       "      <td>True</td>\n",
       "    </tr>\n",
       "  </tbody>\n",
       "</table>\n",
       "</div>"
      ],
      "text/plain": [
       "              Origin Subclass\n",
       "anteater        True    False\n",
       "black rat      False    False\n",
       "flying fox      True    False\n",
       "kangaroo        True     True\n",
       "koala           True     True\n",
       "palm squirrel  False    False\n",
       "platypus        True    False\n",
       "wallaby         True     True"
      ]
     },
     "execution_count": 139,
     "metadata": {},
     "output_type": "execute_result"
    }
   ],
   "source": [
    "aussieMammalsDF.isin({'Subclass':['marsupial'],'Origin':['native']})"
   ]
  },
  {
   "cell_type": "code",
   "execution_count": 140,
   "metadata": {
    "collapsed": true
   },
   "outputs": [],
   "source": [
    "nativeMarsupials={'Subclass':['marsupial'],\n",
    "                            'Origin':['native']}\n"
   ]
  },
  {
   "cell_type": "code",
   "execution_count": 141,
   "metadata": {
    "collapsed": false
   },
   "outputs": [
    {
     "data": {
      "text/html": [
       "<div>\n",
       "<table border=\"1\" class=\"dataframe\">\n",
       "  <thead>\n",
       "    <tr style=\"text-align: right;\">\n",
       "      <th></th>\n",
       "      <th>Origin</th>\n",
       "      <th>Subclass</th>\n",
       "    </tr>\n",
       "  </thead>\n",
       "  <tbody>\n",
       "    <tr>\n",
       "      <th>kangaroo</th>\n",
       "      <td>native</td>\n",
       "      <td>marsupial</td>\n",
       "    </tr>\n",
       "    <tr>\n",
       "      <th>koala</th>\n",
       "      <td>native</td>\n",
       "      <td>marsupial</td>\n",
       "    </tr>\n",
       "    <tr>\n",
       "      <th>wallaby</th>\n",
       "      <td>native</td>\n",
       "      <td>marsupial</td>\n",
       "    </tr>\n",
       "  </tbody>\n",
       "</table>\n",
       "</div>"
      ],
      "text/plain": [
       "          Origin   Subclass\n",
       "kangaroo  native  marsupial\n",
       "koala     native  marsupial\n",
       "wallaby   native  marsupial"
      ]
     },
     "execution_count": 141,
     "metadata": {},
     "output_type": "execute_result"
    }
   ],
   "source": [
    "nativeMarsupialMask=aussieMammalsDF.isin(nativeMarsupials).all(1)\n",
    "aussieMammalsDF[nativeMarsupialMask]\n"
   ]
  },
  {
   "cell_type": "markdown",
   "metadata": {
    "collapsed": true
   },
   "source": [
    "<h2>where() method</h2>"
   ]
  },
  {
   "cell_type": "code",
   "execution_count": 142,
   "metadata": {
    "collapsed": false
   },
   "outputs": [
    {
     "data": {
      "text/plain": [
       "0   -1.749765\n",
       "1    0.342680\n",
       "2    1.153036\n",
       "3   -0.252436\n",
       "4    0.981321\n",
       "5    0.514219\n",
       "6    0.221180\n",
       "7   -1.070043\n",
       "8   -0.189496\n",
       "9    0.255001\n",
       "dtype: float64"
      ]
     },
     "execution_count": 142,
     "metadata": {},
     "output_type": "execute_result"
    }
   ],
   "source": [
    "np.random.seed(100)\n",
    "normvals=pd.Series([np.random.normal() for i in np.arange(10)])\n",
    "normvals\n"
   ]
  },
  {
   "cell_type": "markdown",
   "metadata": {},
   "source": [
    "<b>Difference between using where() and standard boolean as filter on Series object</b>"
   ]
  },
  {
   "cell_type": "code",
   "execution_count": 143,
   "metadata": {
    "collapsed": false
   },
   "outputs": [
    {
     "data": {
      "text/plain": [
       "1    0.342680\n",
       "2    1.153036\n",
       "4    0.981321\n",
       "5    0.514219\n",
       "6    0.221180\n",
       "9    0.255001\n",
       "dtype: float64"
      ]
     },
     "execution_count": 143,
     "metadata": {},
     "output_type": "execute_result"
    }
   ],
   "source": [
    "normvals[normvals>0]"
   ]
  },
  {
   "cell_type": "code",
   "execution_count": 144,
   "metadata": {
    "collapsed": false
   },
   "outputs": [
    {
     "data": {
      "text/plain": [
       "0         NaN\n",
       "1    0.342680\n",
       "2    1.153036\n",
       "3         NaN\n",
       "4    0.981321\n",
       "5    0.514219\n",
       "6    0.221180\n",
       "7         NaN\n",
       "8         NaN\n",
       "9    0.255001\n",
       "dtype: float64"
      ]
     },
     "execution_count": 144,
     "metadata": {},
     "output_type": "execute_result"
    }
   ],
   "source": [
    "normvals.where(normvals>0)"
   ]
  },
  {
   "cell_type": "markdown",
   "metadata": {},
   "source": [
    "<b>No Difference between using where() and standard boolean as filter on Pandas object</b>"
   ]
  },
  {
   "cell_type": "code",
   "execution_count": 145,
   "metadata": {
    "collapsed": false
   },
   "outputs": [
    {
     "data": {
      "text/html": [
       "<div>\n",
       "<table border=\"1\" class=\"dataframe\">\n",
       "  <thead>\n",
       "    <tr style=\"text-align: right;\">\n",
       "      <th></th>\n",
       "      <th>0</th>\n",
       "      <th>30</th>\n",
       "      <th>60</th>\n",
       "      <th>90</th>\n",
       "      <th>120</th>\n",
       "    </tr>\n",
       "  </thead>\n",
       "  <tbody>\n",
       "    <tr>\n",
       "      <th>0</th>\n",
       "      <td>-1.750</td>\n",
       "      <td>0.343</td>\n",
       "      <td>1.153</td>\n",
       "      <td>-0.252</td>\n",
       "      <td>0.981</td>\n",
       "    </tr>\n",
       "    <tr>\n",
       "      <th>1</th>\n",
       "      <td>0.514</td>\n",
       "      <td>0.221</td>\n",
       "      <td>-1.070</td>\n",
       "      <td>-0.189</td>\n",
       "      <td>0.255</td>\n",
       "    </tr>\n",
       "    <tr>\n",
       "      <th>2</th>\n",
       "      <td>-0.458</td>\n",
       "      <td>0.435</td>\n",
       "      <td>-0.584</td>\n",
       "      <td>0.817</td>\n",
       "      <td>0.673</td>\n",
       "    </tr>\n",
       "  </tbody>\n",
       "</table>\n",
       "</div>"
      ],
      "text/plain": [
       "       0     30     60     90    120\n",
       "0 -1.750  0.343  1.153 -0.252  0.981\n",
       "1  0.514  0.221 -1.070 -0.189  0.255\n",
       "2 -0.458  0.435 -0.584  0.817  0.673"
      ]
     },
     "execution_count": 145,
     "metadata": {},
     "output_type": "execute_result"
    }
   ],
   "source": [
    "np.random.seed(100) \n",
    "normDF=pd.DataFrame([[round(np.random.normal(),3) for i in np.arange(5)] for j in range(3)], \n",
    "             columns=['0','30','60','90','120'])\n",
    "normDF\n"
   ]
  },
  {
   "cell_type": "code",
   "execution_count": 146,
   "metadata": {
    "collapsed": false
   },
   "outputs": [
    {
     "data": {
      "text/html": [
       "<div>\n",
       "<table border=\"1\" class=\"dataframe\">\n",
       "  <thead>\n",
       "    <tr style=\"text-align: right;\">\n",
       "      <th></th>\n",
       "      <th>0</th>\n",
       "      <th>30</th>\n",
       "      <th>60</th>\n",
       "      <th>90</th>\n",
       "      <th>120</th>\n",
       "    </tr>\n",
       "  </thead>\n",
       "  <tbody>\n",
       "    <tr>\n",
       "      <th>0</th>\n",
       "      <td>NaN</td>\n",
       "      <td>0.343</td>\n",
       "      <td>1.153</td>\n",
       "      <td>NaN</td>\n",
       "      <td>0.981</td>\n",
       "    </tr>\n",
       "    <tr>\n",
       "      <th>1</th>\n",
       "      <td>0.514</td>\n",
       "      <td>0.221</td>\n",
       "      <td>NaN</td>\n",
       "      <td>NaN</td>\n",
       "      <td>0.255</td>\n",
       "    </tr>\n",
       "    <tr>\n",
       "      <th>2</th>\n",
       "      <td>NaN</td>\n",
       "      <td>0.435</td>\n",
       "      <td>NaN</td>\n",
       "      <td>0.817</td>\n",
       "      <td>0.673</td>\n",
       "    </tr>\n",
       "  </tbody>\n",
       "</table>\n",
       "</div>"
      ],
      "text/plain": [
       "       0     30     60     90    120\n",
       "0    NaN  0.343  1.153    NaN  0.981\n",
       "1  0.514  0.221    NaN    NaN  0.255\n",
       "2    NaN  0.435    NaN  0.817  0.673"
      ]
     },
     "execution_count": 146,
     "metadata": {},
     "output_type": "execute_result"
    }
   ],
   "source": [
    "normDF[normDF>0]"
   ]
  },
  {
   "cell_type": "code",
   "execution_count": 147,
   "metadata": {
    "collapsed": false
   },
   "outputs": [
    {
     "data": {
      "text/html": [
       "<div>\n",
       "<table border=\"1\" class=\"dataframe\">\n",
       "  <thead>\n",
       "    <tr style=\"text-align: right;\">\n",
       "      <th></th>\n",
       "      <th>0</th>\n",
       "      <th>30</th>\n",
       "      <th>60</th>\n",
       "      <th>90</th>\n",
       "      <th>120</th>\n",
       "    </tr>\n",
       "  </thead>\n",
       "  <tbody>\n",
       "    <tr>\n",
       "      <th>0</th>\n",
       "      <td>NaN</td>\n",
       "      <td>0.343</td>\n",
       "      <td>1.153</td>\n",
       "      <td>NaN</td>\n",
       "      <td>0.981</td>\n",
       "    </tr>\n",
       "    <tr>\n",
       "      <th>1</th>\n",
       "      <td>0.514</td>\n",
       "      <td>0.221</td>\n",
       "      <td>NaN</td>\n",
       "      <td>NaN</td>\n",
       "      <td>0.255</td>\n",
       "    </tr>\n",
       "    <tr>\n",
       "      <th>2</th>\n",
       "      <td>NaN</td>\n",
       "      <td>0.435</td>\n",
       "      <td>NaN</td>\n",
       "      <td>0.817</td>\n",
       "      <td>0.673</td>\n",
       "    </tr>\n",
       "  </tbody>\n",
       "</table>\n",
       "</div>"
      ],
      "text/plain": [
       "       0     30     60     90    120\n",
       "0    NaN  0.343  1.153    NaN  0.981\n",
       "1  0.514  0.221    NaN    NaN  0.255\n",
       "2    NaN  0.435    NaN  0.817  0.673"
      ]
     },
     "execution_count": 147,
     "metadata": {},
     "output_type": "execute_result"
    }
   ],
   "source": [
    "normDF.where(normDF>0)"
   ]
  },
  {
   "cell_type": "markdown",
   "metadata": {},
   "source": [
    "<b>mask() is inverse of where()</b>"
   ]
  },
  {
   "cell_type": "code",
   "execution_count": null,
   "metadata": {
    "collapsed": false
   },
   "outputs": [],
   "source": [
    "normDF.mask(normDF>0)"
   ]
  },
  {
   "cell_type": "markdown",
   "metadata": {},
   "source": [
    "<h2>Operations on Indexes</h2>"
   ]
  },
  {
   "cell_type": "markdown",
   "metadata": {},
   "source": [
    "<b>Read in stock index data</b>"
   ]
  },
  {
   "cell_type": "code",
   "execution_count": null,
   "metadata": {
    "collapsed": true
   },
   "outputs": [],
   "source": [
    "stockIndexDataDF=pd.read_csv('./data/stock_index_data.csv')"
   ]
  },
  {
   "cell_type": "code",
   "execution_count": null,
   "metadata": {
    "collapsed": false
   },
   "outputs": [],
   "source": [
    "stockIndexDataDF"
   ]
  },
  {
   "cell_type": "markdown",
   "metadata": {},
   "source": [
    "<b>Set the index of DataFrame to the TradingDate using set_index(..)</b>"
   ]
  },
  {
   "cell_type": "code",
   "execution_count": null,
   "metadata": {
    "collapsed": true
   },
   "outputs": [],
   "source": [
    "stockIndexDF=stockIndexDataDF.set_index('TradingDate')"
   ]
  },
  {
   "cell_type": "code",
   "execution_count": null,
   "metadata": {
    "collapsed": false
   },
   "outputs": [],
   "source": [
    "stockIndexDF"
   ]
  },
  {
   "cell_type": "markdown",
   "metadata": {},
   "source": [
    "<b>reset_index reverses set_index:</b>"
   ]
  },
  {
   "cell_type": "code",
   "execution_count": null,
   "metadata": {
    "collapsed": false
   },
   "outputs": [],
   "source": [
    "stockIndexDF.reset_index()"
   ]
  },
  {
   "cell_type": "markdown",
   "metadata": {},
   "source": [
    "This concludes the chapter. "
   ]
  },
  {
   "cell_type": "code",
   "execution_count": null,
   "metadata": {
    "collapsed": true
   },
   "outputs": [],
   "source": []
  }
 ],
 "metadata": {
  "anaconda-cloud": {},
  "kernelspec": {
   "display_name": "Python [conda env:py3.4]",
   "language": "python",
   "name": "conda-env-py3.4-py"
  },
  "language_info": {
   "codemirror_mode": {
    "name": "ipython",
    "version": 3
   },
   "file_extension": ".py",
   "mimetype": "text/x-python",
   "name": "python",
   "nbconvert_exporter": "python",
   "pygments_lexer": "ipython3",
   "version": "3.4.5"
  }
 },
 "nbformat": 4,
 "nbformat_minor": 0
}
